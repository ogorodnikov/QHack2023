{
 "cells": [
  {
   "cell_type": "code",
   "execution_count": 40,
   "id": "ac3c9637",
   "metadata": {},
   "outputs": [],
   "source": [
    "import time\n",
    "# import math\n",
    "# import random\n",
    "# import datetime\n",
    "\n",
    "import torch\n",
    "import torch.nn as nn\n",
    "import torch.nn.functional as F\n",
    "\n",
    "# from scipy.stats import norm\n",
    "# from sklearn.utils import shuffle\n",
    "\n",
    "import pennylane as qml\n",
    "\n",
    "# import numpy as np\n",
    "import pandas as pd\n",
    "from matplotlib import pyplot as plt\n",
    "\n",
    "plt.style.use(\"dark_background\")"
   ]
  },
  {
   "cell_type": "markdown",
   "id": "20f6a24a",
   "metadata": {},
   "source": [
    "### Functions"
   ]
  },
  {
   "cell_type": "code",
   "execution_count": 76,
   "id": "25cedc92",
   "metadata": {},
   "outputs": [
    {
     "ename": "IndentationError",
     "evalue": "unindent does not match any outer indentation level (<tokenize>, line 20)",
     "output_type": "error",
     "traceback": [
      "\u001b[0;36m  File \u001b[0;32m<tokenize>:20\u001b[0;36m\u001b[0m\n\u001b[0;31m    batch_size=batch_size, shuffle=True, drop_last=True)\u001b[0m\n\u001b[0m    ^\u001b[0m\n\u001b[0;31mIndentationError\u001b[0m\u001b[0;31m:\u001b[0m unindent does not match any outer indentation level\n"
     ]
    }
   ],
   "source": [
    "def train(x_train, y_train, \n",
    "          x_test, y_test, \n",
    "          model,\n",
    "          epochs=50,\n",
    "          batch_size=8,\n",
    "          learning_rate=0.001, \n",
    "          weight_decay=1e-6,\n",
    "          printout_period=1):\n",
    "    \n",
    "    start_time = time.time()\n",
    "\n",
    "    batches = len(y_train) // batch_size\n",
    "    \n",
    "    loss_function = torch.nn.MSELoss()\n",
    "    \n",
    "    optimizer = torch.optim.Adam(params=model.parameters(), \n",
    "                                 lr=learning_rate),\n",
    "                                 weight_decay=weight_decay)\n",
    "    \n",
    "    data_loader_train = torch.utils.data.DataLoader(list(zip(x_train, y_train)), \n",
    "        batch_size=batch_size, shuffle=True, drop_last=True)\n",
    "    \n",
    "    data_loader_test = torch.utils.data.DataLoader(list(zip(x_test, y_test)), \n",
    "        batch_size=batch_size, shuffle=True, drop_last=True)\n",
    "    \n",
    "    best_model = model\n",
    "    best_avg_train_loss = 0\n",
    "    best_avg_test_loss = 0\n",
    "    \n",
    "    train_losses = []\n",
    "    test_losses = []\n",
    "    \n",
    "    for epoch in range(epochs):\n",
    "        \n",
    "        epoch_train_loss = 0\n",
    "        \n",
    "        for xs, ys in data_loader_train:\n",
    "            \n",
    "            # print(\"xs:\", xs)\n",
    "            # print(\"ys:\", ys)\n",
    "            \n",
    "            optimizer.zero_grad()\n",
    "            \n",
    "            predictions = model(xs)\n",
    "            \n",
    "            # print(\"predictions:\", predictions)           \n",
    "            \n",
    "            loss_evaluated = loss_function(predictions, ys)\n",
    "            \n",
    "            loss_evaluated.backward()\n",
    "            \n",
    "            optimizer.step()\n",
    "            \n",
    "            epoch_train_loss += loss_evaluated\n",
    "            \n",
    "        avg_train_loss = epoch_train_loss / batches\n",
    "        train_losses.append(avg_train_loss)\n",
    "        \n",
    "        # Test\n",
    "        \n",
    "        epoch_test_loss = 0\n",
    "        \n",
    "        for xs, ys in data_loader_test:\n",
    "            \n",
    "            loss_evaluated = loss_function(model(xs), ys)\n",
    "            epoch_test_loss += loss_evaluated\n",
    "            \n",
    "        avg_test_loss = epoch_test_loss / batches\n",
    "        \n",
    "        test_losses.append(avg_test_loss)\n",
    "        \n",
    "        \n",
    "        if epoch == 0:\n",
    "            best_avg_test_loss = avg_test_loss\n",
    "            \n",
    "        if avg_test_loss < best_avg_test_loss:\n",
    "            best_avg_test_loss = avg_test_loss\n",
    "            best_model = model\n",
    "            \n",
    "        if not epoch % printout_period:\n",
    "            print(\"Average train loss over epoch {}: {:.4f}\".format(epoch, avg_train_loss))\n",
    "            print(\"Average test loss over epoch {}: {:.4f}\\n\".format(epoch, avg_test_loss))\n",
    "    \n",
    "    print(\"Best train loss: %s\" % (float(min(train_losses).detach())))\n",
    "    print(\"Best test loss: %s\" % (float(best_avg_test_loss.detach())))\n",
    "    print(\"Train time: %s seconds\" % (time.time() - start_time))\n",
    "    \n",
    "    return best_model, (torch.tensor(train_losses), torch.tensor(test_losses))"
   ]
  },
  {
   "cell_type": "markdown",
   "id": "f17bbfbe",
   "metadata": {},
   "source": [
    "### Data"
   ]
  },
  {
   "cell_type": "code",
   "execution_count": 77,
   "id": "75d4b0d5",
   "metadata": {
    "scrolled": true
   },
   "outputs": [
    {
     "data": {
      "text/plain": [
       "(2011, 10)"
      ]
     },
     "execution_count": 77,
     "metadata": {},
     "output_type": "execute_result"
    }
   ],
   "source": [
    "data = pd.read_csv('water_potability.csv')\n",
    "\n",
    "data.dropna(inplace=True)\n",
    "\n",
    "data.shape"
   ]
  },
  {
   "cell_type": "code",
   "execution_count": 43,
   "id": "b5c43dcd-6bc5-4bd5-9bce-849ec346fcd8",
   "metadata": {},
   "outputs": [
    {
     "name": "stdout",
     "output_type": "stream",
     "text": [
      "2011 1407 604\n"
     ]
    }
   ],
   "source": [
    "DATA_LIMIT = 2011\n",
    "\n",
    "limited_data = data[:DATA_LIMIT].copy()\n",
    "\n",
    "train_length = int(len(limited_data) * 0.7)\n",
    "\n",
    "data_train = limited_data[:train_length].copy()\n",
    "data_test = limited_data[train_length:].copy()\n",
    "\n",
    "print(len(limited_data), len(data_train), len(data_test))"
   ]
  },
  {
   "cell_type": "markdown",
   "id": "05fda6a6",
   "metadata": {},
   "source": [
    "### Model"
   ]
  },
  {
   "cell_type": "code",
   "execution_count": 65,
   "id": "f05f19f0",
   "metadata": {},
   "outputs": [],
   "source": [
    "n_qubits = 4\n",
    "q_delta = 0.01\n",
    "q_depth = 1\n",
    "\n",
    "dev = qml.device(\"lightning.qubit\", wires=n_qubits)\n",
    "\n",
    "@qml.qnode(dev, interface=\"torch\")\n",
    "def quantum_net(q_input_features, q_weights):\n",
    "    for idx in range(n_qubits):\n",
    "        qml.Hadamard(wires=idx)\n",
    "    for idx, element in enumerate(q_input_features):\n",
    "        qml.RY(element, wires=idx)\n",
    "    for k in range(q_depth):\n",
    "        for i in range(0, n_qubits - 1, 2):\n",
    "            qml.CNOT(wires=[i, i + 1])\n",
    "        for i in range(1, n_qubits - 1, 2):\n",
    "            qml.CNOT(wires=[i, i + 1])\n",
    "        for idx, element in enumerate(q_weights):\n",
    "            qml.RY(element, wires=idx)\n",
    "    exp_vals = [qml.expval(qml.PauliZ(position)) for position in range(n_qubits)]\n",
    "    return exp_vals"
   ]
  },
  {
   "cell_type": "code",
   "execution_count": 66,
   "id": "20438bdc",
   "metadata": {},
   "outputs": [],
   "source": [
    "class DressedQuantumNet(nn.Module):\n",
    "    \n",
    "    def __init__(self, n_features):\n",
    "        super(DressedQuantumNet, self).__init__()\n",
    "        self.pre_net = nn.Linear(n_features, n_qubits)\n",
    "        self.q_params = nn.Parameter(q_delta * torch.randn(q_depth * n_qubits))\n",
    "        self.post_net = nn.Linear(n_qubits, n_features)\n",
    "\n",
    "    def forward(self, input_features):\n",
    "        pre_out = self.pre_net(input_features)\n",
    "        q_in = pre_out\n",
    "        q_out = torch.Tensor(0, n_qubits)\n",
    "        for elem in q_in:\n",
    "            q_out_elem = quantum_net(elem, self.q_params).float().unsqueeze(0)\n",
    "            q_out = torch.cat((q_out, q_out_elem))\n",
    "        return self.post_net(q_out)"
   ]
  },
  {
   "cell_type": "code",
   "execution_count": 67,
   "id": "d96767c7",
   "metadata": {},
   "outputs": [],
   "source": [
    "class Model(nn.Module):\n",
    "    def __init__(self, num_inputs=1, hidden=32):\n",
    "        super(Model, self).__init__()\n",
    "        self.fc1 = nn.Linear(num_inputs, hidden)\n",
    "        self.fc2 = nn.Linear(hidden, hidden)\n",
    "        self.fc3 = nn.Linear(hidden, hidden)\n",
    "        self.fc4 = nn.Linear(hidden, hidden)\n",
    "        self.fc5 = DressedQuantumNet(hidden)\n",
    "        self.fc6 = nn.Linear(hidden, 1)\n",
    "        \n",
    "    def forward(self, x):\n",
    "        self.num_inputs = x.shape[0]\n",
    "        x = F.relu(self.fc1(x))\n",
    "        x = F.relu(self.fc2(x))\n",
    "        x = F.relu(self.fc3(x))\n",
    "        x = F.relu(self.fc4(x))\n",
    "        x = F.relu(self.fc5(x))\n",
    "        return self.fc6(x)"
   ]
  },
  {
   "cell_type": "code",
   "execution_count": 68,
   "id": "b11c422b-7dfe-4189-b87c-411ebee293f7",
   "metadata": {},
   "outputs": [],
   "source": [
    "class ClassicalModel(nn.Module):\n",
    "    def __init__(self, num_inputs=1, hidden=32):\n",
    "        super(ClassicalModel, self).__init__()\n",
    "        self.fc1 = nn.Linear(num_inputs, hidden)\n",
    "        self.fc2 = nn.Linear(hidden, hidden)\n",
    "        self.fc3 = nn.Linear(hidden, hidden)\n",
    "        self.fc4 = nn.Linear(hidden, hidden)\n",
    "        self.fc5 = nn.Linear(hidden, hidden)\n",
    "        self.fc6 = nn.Linear(hidden, 1)\n",
    "        \n",
    "    def forward(self, x):\n",
    "        self.num_inputs = x.shape[0]\n",
    "        x = F.relu(self.fc1(x))\n",
    "        x = F.relu(self.fc2(x))\n",
    "        x = F.relu(self.fc3(x))\n",
    "        x = F.relu(self.fc4(x))\n",
    "        x = F.relu(self.fc5(x))\n",
    "        return self.fc6(x)"
   ]
  },
  {
   "cell_type": "markdown",
   "id": "0b4a75da",
   "metadata": {
    "tags": []
   },
   "source": [
    "### 4 input parameters"
   ]
  },
  {
   "cell_type": "code",
   "execution_count": 72,
   "id": "3d5ce097-4b54-443b-b483-e926ea9b6588",
   "metadata": {
    "scrolled": true
   },
   "outputs": [],
   "source": [
    "FEATURE_COLUMNS = data_train.columns[:-1]\n",
    "\n",
    "# FEATURE_COLUMNS = ['Hardness', 'Solids', 'Chloramines', 'Conductivity'] \n",
    "                   # 'Organic_carbon', 'Turbidity']\n",
    "LABEL_COLUMN = ['Potability']\n",
    "\n",
    "x_train = torch.tensor(data_train[FEATURE_COLUMNS].values).float()\n",
    "y_train = torch.tensor(data_train[LABEL_COLUMN].values).float()\n",
    "\n",
    "x_test = torch.tensor(data_test[FEATURE_COLUMNS].values).float()\n",
    "y_test = torch.tensor(data_test[LABEL_COLUMN].values).float()"
   ]
  },
  {
   "cell_type": "code",
   "execution_count": 73,
   "id": "683b9df9-aed6-432e-b264-a76601646f58",
   "metadata": {
    "scrolled": true
   },
   "outputs": [],
   "source": [
    "num_inputs = x_train.shape[1]\n",
    "\n",
    "model = Model(num_inputs=num_inputs)\n",
    "\n",
    "# model = ClassicalModel(num_inputs=num_inputs)"
   ]
  },
  {
   "cell_type": "code",
   "execution_count": 74,
   "id": "4883ebe8-c8f9-4362-8d7e-af1d7932770b",
   "metadata": {
    "scrolled": true,
    "tags": []
   },
   "outputs": [
    {
     "name": "stdout",
     "output_type": "stream",
     "text": [
      "Average train loss over epoch 0: 0.2400\n",
      "Average test loss over epoch 0: 0.1266\n",
      "\n",
      "Average train loss over epoch 1: 0.2319\n",
      "Average test loss over epoch 1: 0.1224\n",
      "\n",
      "Average train loss over epoch 2: 0.2367\n",
      "Average test loss over epoch 2: 0.1203\n",
      "\n",
      "Average train loss over epoch 3: 0.2346\n",
      "Average test loss over epoch 3: 0.1197\n",
      "\n",
      "Average train loss over epoch 4: 0.2330\n",
      "Average test loss over epoch 4: 0.1170\n",
      "\n",
      "Average train loss over epoch 5: 0.2311\n",
      "Average test loss over epoch 5: 0.1202\n",
      "\n",
      "Average train loss over epoch 6: 0.2296\n",
      "Average test loss over epoch 6: 0.1184\n",
      "\n",
      "Average train loss over epoch 7: 0.2312\n",
      "Average test loss over epoch 7: 0.1184\n",
      "\n",
      "Average train loss over epoch 8: 0.2307\n",
      "Average test loss over epoch 8: 0.1197\n",
      "\n",
      "Average train loss over epoch 9: 0.2310\n",
      "Average test loss over epoch 9: 0.1191\n",
      "\n",
      "Best train loss: 0.22959361970424652\n",
      "Best test loss: 0.11700841784477234\n",
      "Train time: 189.11185812950134 seconds\n"
     ]
    }
   ],
   "source": [
    "trained_model, loss = train(x_train, y_train, \n",
    "                            x_test, y_test, \n",
    "                            model, epochs=10, learning_rate=0.0001)"
   ]
  },
  {
   "cell_type": "code",
   "execution_count": 51,
   "id": "a50c2942-7f4b-41f6-bf1b-aa9d3a15b889",
   "metadata": {},
   "outputs": [
    {
     "data": {
      "text/plain": [
       "(tensor([20.9993,  0.2801,  0.2895,  0.2791,  0.2926]),\n",
       " tensor([0.1360, 0.1431, 0.1349, 0.1611, 0.1382]))"
      ]
     },
     "execution_count": 51,
     "metadata": {},
     "output_type": "execute_result"
    }
   ],
   "source": [
    "loss"
   ]
  },
  {
   "cell_type": "code",
   "execution_count": 55,
   "id": "022c8fcd-07aa-404a-b321-14e28ddf78e8",
   "metadata": {},
   "outputs": [
    {
     "data": {
      "image/png": "[encoded data removed]",
      "text/plain": [
       "<Figure size 432x288 with 1 Axes>"
      ]
     },
     "metadata": {},
     "output_type": "display_data"
    }
   ],
   "source": [
    "plt.plot(loss[0], label=\"Train Loss\")\n",
    "plt.plot(loss[1], label=\"Test Loss\")\n",
    "\n",
    "plt.xlabel(\"Epoch\")\n",
    "plt.ylabel(\"Loss\")\n",
    "\n",
    "plt.legend();"
   ]
  },
  {
   "cell_type": "code",
   "execution_count": 17,
   "id": "dfd96007",
   "metadata": {},
   "outputs": [
    {
     "name": "stdout",
     "output_type": "stream",
     "text": [
      "Time: 0.9332220554351807 seconds\n"
     ]
    },
    {
     "data": {
      "text/plain": [
       "array([nan], dtype=float32)"
      ]
     },
     "execution_count": 17,
     "metadata": {},
     "output_type": "execute_result"
    }
   ],
   "source": [
    "start_time = time.time()\n",
    "\n",
    "y_pred = trained_model(x_train)\n",
    "\n",
    "prediction = y_pred.detach().numpy()\n",
    "\n",
    "print(\"Time: %s seconds\" % (time.time() - start_time))\n",
    "\n",
    "data_train.head()\n",
    "\n",
    "prediction[0]"
   ]
  },
  {
   "cell_type": "code",
   "execution_count": 14,
   "id": "c5af91f3",
   "metadata": {},
   "outputs": [],
   "source": [
    "# data_train.to_csv('hybrid_nn_dqc_train.csv', index=False)\n",
    "# data_test.to_csv('hybrid_nn_dqc_test.csv', index=False)"
   ]
  },
  {
   "cell_type": "code",
   "execution_count": 15,
   "id": "ac8b848e",
   "metadata": {},
   "outputs": [
    {
     "data": {
      "text/html": [
       "<div>\n",
       "<style scoped>\n",
       "    .dataframe tbody tr th:only-of-type {\n",
       "        vertical-align: middle;\n",
       "    }\n",
       "\n",
       "    .dataframe tbody tr th {\n",
       "        vertical-align: top;\n",
       "    }\n",
       "\n",
       "    .dataframe thead th {\n",
       "        text-align: right;\n",
       "    }\n",
       "</style>\n",
       "<table border=\"1\" class=\"dataframe\">\n",
       "  <thead>\n",
       "    <tr style=\"text-align: right;\">\n",
       "      <th></th>\n",
       "      <th>train_loss</th>\n",
       "      <th>test_loss</th>\n",
       "    </tr>\n",
       "  </thead>\n",
       "  <tbody>\n",
       "    <tr>\n",
       "      <th>0</th>\n",
       "      <td>0.128954</td>\n",
       "      <td>0.005775</td>\n",
       "    </tr>\n",
       "    <tr>\n",
       "      <th>1</th>\n",
       "      <td>0.002195</td>\n",
       "      <td>0.000219</td>\n",
       "    </tr>\n",
       "    <tr>\n",
       "      <th>2</th>\n",
       "      <td>0.000318</td>\n",
       "      <td>0.000078</td>\n",
       "    </tr>\n",
       "    <tr>\n",
       "      <th>3</th>\n",
       "      <td>0.000146</td>\n",
       "      <td>0.000043</td>\n",
       "    </tr>\n",
       "    <tr>\n",
       "      <th>4</th>\n",
       "      <td>0.000083</td>\n",
       "      <td>0.000025</td>\n",
       "    </tr>\n",
       "  </tbody>\n",
       "</table>\n",
       "</div>"
      ],
      "text/plain": [
       "   train_loss  test_loss\n",
       "0    0.128954   0.005775\n",
       "1    0.002195   0.000219\n",
       "2    0.000318   0.000078\n",
       "3    0.000146   0.000043\n",
       "4    0.000083   0.000025"
      ]
     },
     "execution_count": 15,
     "metadata": {},
     "output_type": "execute_result"
    }
   ],
   "source": [
    "loss_data = pd.DataFrame()\n",
    "loss_data['train_loss'] = loss[0]\n",
    "loss_data['test_loss'] = loss[1]\n",
    "loss_data.to_csv('hybrid_nn_dqc_loss.csv', index=False)\n",
    "loss_data.head()"
   ]
  },
  {
   "cell_type": "code",
   "execution_count": null,
   "id": "227025dd-8547-4c90-9135-0f133b9066a1",
   "metadata": {},
   "outputs": [],
   "source": []
  },
  {
   "cell_type": "markdown",
   "id": "70f715c7-e958-4235-887d-df27ab002d7e",
   "metadata": {
    "tags": []
   },
   "source": [
    "### Plots"
   ]
  },
  {
   "cell_type": "code",
   "execution_count": 19,
   "id": "6126cf40-0150-403b-bde0-7473599be75a",
   "metadata": {},
   "outputs": [],
   "source": [
    "def plot_stock_prices(data_train, data_test, title='train'):\n",
    "    \n",
    "    data_train = data_train.sort_values('initial_stock_price')\n",
    "    data_test = data_test.sort_values('initial_stock_price')\n",
    "    fig, axs = plt.subplots(1, 2, figsize=(10, 4), gridspec_kw={'width_ratios': [1, 1]})\n",
    "    axs[0].scatter(data_train['initial_stock_price'], data_train['option_price'], s=4, c='b', \n",
    "                label='Monte-Carlo')\n",
    "    axs[0].scatter(data_train['initial_stock_price'], data_train['predicted_option_price'], s=4, c='r',\n",
    "                label='Model')\n",
    "    axs[0].set_title('Train')\n",
    "    axs[1].scatter(data_test['initial_stock_price'], data_test['option_price'], s=4, c='b', \n",
    "                label='Monte-Carlo')\n",
    "    axs[1].scatter(data_test['initial_stock_price'], data_test['predicted_option_price'], s=4, c='r',\n",
    "                label='Model')\n",
    "    axs[1].set_title('Test')\n",
    "    for ax in axs.flat:\n",
    "        ax.set(xlabel='initial stock price', ylabel='option price')\n",
    "        ax.label_outer()\n",
    "    plt.savefig(title+'.png', facecolor='white', dpi=150)\n",
    "\n",
    "    \n",
    "def plot_loss(loss, title='train'):\n",
    "    \n",
    "    train_loss, test_loss = loss[0], loss[1]\n",
    "    epochs = [i for i in range(len(train_loss))]\n",
    "    fig, axs = plt.subplots(1, 2, figsize=(10, 4), gridspec_kw={'width_ratios': [1, 1]})\n",
    "    axs[0].plot(epochs, train_loss, c='b')\n",
    "    axs[0].set_title('Train')\n",
    "    axs[1].plot(epochs, test_loss, c='b')\n",
    "    axs[1].set_title('Test')\n",
    "    for ax in axs.flat:\n",
    "        ax.set(xlabel='epoch', ylabel='loss')\n",
    "        ax.label_outer()\n",
    "    plt.savefig(title+'.png', facecolor='white', dpi=150)"
   ]
  },
  {
   "cell_type": "code",
   "execution_count": 22,
   "id": "c58cd8a2",
   "metadata": {},
   "outputs": [],
   "source": [
    "# plot_loss(loss, 'hybrid_nn_dqc_loss')"
   ]
  },
  {
   "cell_type": "code",
   "execution_count": 23,
   "id": "89bed7fb",
   "metadata": {},
   "outputs": [],
   "source": [
    "# plot_stock_prices(data_train, data_test, title='hybrid_nn_dqc')"
   ]
  },
  {
   "cell_type": "code",
   "execution_count": null,
   "id": "55c4cdbf",
   "metadata": {},
   "outputs": [],
   "source": []
  },
  {
   "cell_type": "code",
   "execution_count": null,
   "id": "e5888132",
   "metadata": {},
   "outputs": [],
   "source": []
  }
 ],
 "metadata": {
  "kernelspec": {
   "display_name": "Python 3 (ipykernel)",
   "language": "python",
   "name": "python3"
  },
  "language_info": {
   "codemirror_mode": {
    "name": "ipython",
    "version": 3
   },
   "file_extension": ".py",
   "mimetype": "text/x-python",
   "name": "python",
   "nbconvert_exporter": "python",
   "pygments_lexer": "ipython3",
   "version": "3.8.10"
  }
 },
 "nbformat": 4,
 "nbformat_minor": 5
}
