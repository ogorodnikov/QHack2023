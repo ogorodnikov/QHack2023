{
 "cells": [
  {
   "cell_type": "code",
   "execution_count": 27,
   "id": "ac3c9637",
   "metadata": {},
   "outputs": [],
   "source": [
    "# import time\n",
    "# import math\n",
    "# import random\n",
    "# import datetime\n",
    "\n",
    "import torch\n",
    "import torch.nn as nn\n",
    "# import torch.nn.functional as F\n",
    "\n",
    "# from scipy.stats import norm\n",
    "# from sklearn.utils import shuffle\n",
    "\n",
    "import pennylane as qml\n",
    "\n",
    "# import numpy as np\n",
    "import pandas as pd\n",
    "# from matplotlib import pyplot as plt"
   ]
  },
  {
   "cell_type": "markdown",
   "id": "20f6a24a",
   "metadata": {},
   "source": [
    "### Functions"
   ]
  },
  {
   "cell_type": "code",
   "execution_count": 28,
   "id": "25cedc92",
   "metadata": {},
   "outputs": [],
   "source": [
    "def train(x_train, y_train, \n",
    "          x_test, y_test, \n",
    "          model,\n",
    "          epochs=50, batch_size=8, learning_rate=0.01):\n",
    "    \n",
    "    start_time = time.time()\n",
    "\n",
    "    batches = len(y_train) // batch_size\n",
    "    \n",
    "    loss_function = torch.nn.MSELoss()\n",
    "    \n",
    "    optimizer = torch.optim.Adam(model.parameters(), lr=learning_rate)\n",
    "    \n",
    "    data_loader_train = torch.utils.data.DataLoader(list(zip(x_train, y_train)), \n",
    "        batch_size=batch_size, shuffle=True, drop_last=True)\n",
    "    \n",
    "    data_loader_test = torch.utils.data.DataLoader(list(zip(x_test, y_test)), \n",
    "        batch_size=batch_size, shuffle=True, drop_last=True)\n",
    "    \n",
    "    best_model = model\n",
    "    best_avg_train_loss = 0\n",
    "    best_avg_test_loss = 0\n",
    "    \n",
    "    train_losses = []\n",
    "    test_losses = []\n",
    "    \n",
    "    for epoch in range(epochs):\n",
    "        \n",
    "        epoch_train_loss = 0\n",
    "        \n",
    "        for xs, ys in data_loader_train:\n",
    "            \n",
    "            optimizer.zero_grad()\n",
    "            \n",
    "            loss_evaluated = loss_function(model(xs), ys)\n",
    "            loss_evaluated.backward()\n",
    "            \n",
    "            optimizer.step()\n",
    "            \n",
    "            epoch_train_loss += loss_evaluated\n",
    "            \n",
    "        avg_train_loss = epoch_train_loss / batches\n",
    "        train_losses.append(avg_train_loss)\n",
    "        \n",
    "        # Test\n",
    "        \n",
    "        epoch_test_loss = 0\n",
    "        \n",
    "        for xs, ys in data_loader_test:\n",
    "            \n",
    "            loss_evaluated = loss_function(model(xs), ys)\n",
    "            epoch_test_loss += loss_evaluated\n",
    "            \n",
    "        avg_test_loss = epoch_test_loss / batches\n",
    "        \n",
    "        test_losses.append(avg_test_loss)\n",
    "        \n",
    "        \n",
    "        if epoch == 0:\n",
    "            best_avg_test_loss = avg_test_loss\n",
    "            \n",
    "        if avg_test_loss < best_avg_test_loss:\n",
    "            best_avg_test_loss = avg_test_loss\n",
    "            best_model = model\n",
    "            \n",
    "        if epoch % 2 == 0:\n",
    "            print(\"Average train loss over epoch {}: {:.4f}\".format(epoch, avg_train_loss))\n",
    "            print(\"Average test loss over epoch {}: {:.4f}\\n\".format(epoch, avg_test_loss))\n",
    "    \n",
    "    print(\"Best train loss: %s\" % (float(min(train_losses).detach())))\n",
    "    print(\"Best test loss: %s\" % (float(best_avg_test_loss.detach())))\n",
    "    print(\"Train time: %s seconds\" % (time.time() - start_time))\n",
    "    \n",
    "    return best_model, (torch.tensor(train_losses), torch.tensor(test_losses))"
   ]
  },
  {
   "cell_type": "code",
   "execution_count": 29,
   "id": "9ff90e8f",
   "metadata": {},
   "outputs": [],
   "source": [
    "def plot_stock_prices(data_train, data_test, title='train'):\n",
    "    \n",
    "    data_train = data_train.sort_values('initial_stock_price')\n",
    "    data_test = data_test.sort_values('initial_stock_price')\n",
    "    fig, axs = plt.subplots(1, 2, figsize=(10, 4), gridspec_kw={'width_ratios': [1, 1]})\n",
    "    axs[0].scatter(data_train['initial_stock_price'], data_train['option_price'], s=4, c='b', \n",
    "                label='Monte-Carlo')\n",
    "    axs[0].scatter(data_train['initial_stock_price'], data_train['predicted_option_price'], s=4, c='r',\n",
    "                label='Model')\n",
    "    axs[0].set_title('Train')\n",
    "    axs[1].scatter(data_test['initial_stock_price'], data_test['option_price'], s=4, c='b', \n",
    "                label='Monte-Carlo')\n",
    "    axs[1].scatter(data_test['initial_stock_price'], data_test['predicted_option_price'], s=4, c='r',\n",
    "                label='Model')\n",
    "    axs[1].set_title('Test')\n",
    "    for ax in axs.flat:\n",
    "        ax.set(xlabel='initial stock price', ylabel='option price')\n",
    "        ax.label_outer()\n",
    "    plt.savefig(title+'.png', facecolor='white', dpi=150)"
   ]
  },
  {
   "cell_type": "code",
   "execution_count": 30,
   "id": "cfb73c37",
   "metadata": {},
   "outputs": [],
   "source": [
    "def plot_loss(loss, title='train'):\n",
    "    \n",
    "    train_loss, test_loss = loss[0], loss[1]\n",
    "    epochs = [i for i in range(len(train_loss))]\n",
    "    fig, axs = plt.subplots(1, 2, figsize=(10, 4), gridspec_kw={'width_ratios': [1, 1]})\n",
    "    axs[0].plot(epochs, train_loss, c='b')\n",
    "    axs[0].set_title('Train')\n",
    "    axs[1].plot(epochs, test_loss, c='b')\n",
    "    axs[1].set_title('Test')\n",
    "    for ax in axs.flat:\n",
    "        ax.set(xlabel='epoch', ylabel='loss')\n",
    "        ax.label_outer()\n",
    "    plt.savefig(title+'.png', facecolor='white', dpi=150)"
   ]
  },
  {
   "cell_type": "markdown",
   "id": "f17bbfbe",
   "metadata": {},
   "source": [
    "### Data"
   ]
  },
  {
   "cell_type": "code",
   "execution_count": 31,
   "id": "75d4b0d5",
   "metadata": {
    "scrolled": true
   },
   "outputs": [
    {
     "data": {
      "text/html": [
       "<div>\n",
       "<style scoped>\n",
       "    .dataframe tbody tr th:only-of-type {\n",
       "        vertical-align: middle;\n",
       "    }\n",
       "\n",
       "    .dataframe tbody tr th {\n",
       "        vertical-align: top;\n",
       "    }\n",
       "\n",
       "    .dataframe thead th {\n",
       "        text-align: right;\n",
       "    }\n",
       "</style>\n",
       "<table border=\"1\" class=\"dataframe\">\n",
       "  <thead>\n",
       "    <tr style=\"text-align: right;\">\n",
       "      <th></th>\n",
       "      <th>ph</th>\n",
       "      <th>Hardness</th>\n",
       "      <th>Solids</th>\n",
       "      <th>Chloramines</th>\n",
       "      <th>Sulfate</th>\n",
       "      <th>Conductivity</th>\n",
       "      <th>Organic_carbon</th>\n",
       "      <th>Trihalomethanes</th>\n",
       "      <th>Turbidity</th>\n",
       "      <th>Potability</th>\n",
       "    </tr>\n",
       "  </thead>\n",
       "  <tbody>\n",
       "    <tr>\n",
       "      <th>0</th>\n",
       "      <td>NaN</td>\n",
       "      <td>204.890455</td>\n",
       "      <td>20791.318981</td>\n",
       "      <td>7.300212</td>\n",
       "      <td>368.516441</td>\n",
       "      <td>564.308654</td>\n",
       "      <td>10.379783</td>\n",
       "      <td>86.990970</td>\n",
       "      <td>2.963135</td>\n",
       "      <td>0</td>\n",
       "    </tr>\n",
       "    <tr>\n",
       "      <th>1</th>\n",
       "      <td>3.716080</td>\n",
       "      <td>129.422921</td>\n",
       "      <td>18630.057858</td>\n",
       "      <td>6.635246</td>\n",
       "      <td>NaN</td>\n",
       "      <td>592.885359</td>\n",
       "      <td>15.180013</td>\n",
       "      <td>56.329076</td>\n",
       "      <td>4.500656</td>\n",
       "      <td>0</td>\n",
       "    </tr>\n",
       "    <tr>\n",
       "      <th>2</th>\n",
       "      <td>8.099124</td>\n",
       "      <td>224.236259</td>\n",
       "      <td>19909.541732</td>\n",
       "      <td>9.275884</td>\n",
       "      <td>NaN</td>\n",
       "      <td>418.606213</td>\n",
       "      <td>16.868637</td>\n",
       "      <td>66.420093</td>\n",
       "      <td>3.055934</td>\n",
       "      <td>0</td>\n",
       "    </tr>\n",
       "    <tr>\n",
       "      <th>3</th>\n",
       "      <td>8.316766</td>\n",
       "      <td>214.373394</td>\n",
       "      <td>22018.417441</td>\n",
       "      <td>8.059332</td>\n",
       "      <td>356.886136</td>\n",
       "      <td>363.266516</td>\n",
       "      <td>18.436524</td>\n",
       "      <td>100.341674</td>\n",
       "      <td>4.628771</td>\n",
       "      <td>0</td>\n",
       "    </tr>\n",
       "    <tr>\n",
       "      <th>4</th>\n",
       "      <td>9.092223</td>\n",
       "      <td>181.101509</td>\n",
       "      <td>17978.986339</td>\n",
       "      <td>6.546600</td>\n",
       "      <td>310.135738</td>\n",
       "      <td>398.410813</td>\n",
       "      <td>11.558279</td>\n",
       "      <td>31.997993</td>\n",
       "      <td>4.075075</td>\n",
       "      <td>0</td>\n",
       "    </tr>\n",
       "  </tbody>\n",
       "</table>\n",
       "</div>"
      ],
      "text/plain": [
       "         ph    Hardness        Solids  Chloramines     Sulfate  Conductivity  \\\n",
       "0       NaN  204.890455  20791.318981     7.300212  368.516441    564.308654   \n",
       "1  3.716080  129.422921  18630.057858     6.635246         NaN    592.885359   \n",
       "2  8.099124  224.236259  19909.541732     9.275884         NaN    418.606213   \n",
       "3  8.316766  214.373394  22018.417441     8.059332  356.886136    363.266516   \n",
       "4  9.092223  181.101509  17978.986339     6.546600  310.135738    398.410813   \n",
       "\n",
       "   Organic_carbon  Trihalomethanes  Turbidity  Potability  \n",
       "0       10.379783        86.990970   2.963135           0  \n",
       "1       15.180013        56.329076   4.500656           0  \n",
       "2       16.868637        66.420093   3.055934           0  \n",
       "3       18.436524       100.341674   4.628771           0  \n",
       "4       11.558279        31.997993   4.075075           0  "
      ]
     },
     "execution_count": 31,
     "metadata": {},
     "output_type": "execute_result"
    }
   ],
   "source": [
    "data = pd.read_csv('water_potability.csv')\n",
    "\n",
    "data.head()"
   ]
  },
  {
   "cell_type": "code",
   "execution_count": 32,
   "id": "b5c43dcd-6bc5-4bd5-9bce-849ec346fcd8",
   "metadata": {},
   "outputs": [
    {
     "name": "stdout",
     "output_type": "stream",
     "text": [
      "3276 2293 983\n"
     ]
    }
   ],
   "source": [
    "data_train = data[:int(len(data)*0.7)].copy()\n",
    "data_test = data[int(len(data)*0.7):].copy()\n",
    "\n",
    "print(len(data), len(data_train), len(data_test))"
   ]
  },
  {
   "cell_type": "markdown",
   "id": "05fda6a6",
   "metadata": {},
   "source": [
    "### Model"
   ]
  },
  {
   "cell_type": "code",
   "execution_count": 33,
   "id": "f05f19f0",
   "metadata": {},
   "outputs": [],
   "source": [
    "n_qubits = 4\n",
    "q_delta = 0.01\n",
    "q_depth = 1\n",
    "\n",
    "dev = qml.device(\"lightning.qubit\", wires=n_qubits)\n",
    "\n",
    "@qml.qnode(dev, interface=\"torch\")\n",
    "def quantum_net(q_input_features, q_weights):\n",
    "    for idx in range(n_qubits):\n",
    "        qml.Hadamard(wires=idx)\n",
    "    for idx, element in enumerate(q_input_features):\n",
    "        qml.RY(element, wires=idx)\n",
    "    for k in range(q_depth):\n",
    "        for i in range(0, n_qubits - 1, 2):\n",
    "            qml.CNOT(wires=[i, i + 1])\n",
    "        for i in range(1, n_qubits - 1, 2):\n",
    "            qml.CNOT(wires=[i, i + 1])\n",
    "        for idx, element in enumerate(q_weights):\n",
    "            qml.RY(element, wires=idx)\n",
    "    exp_vals = [qml.expval(qml.PauliZ(position)) for position in range(n_qubits)]\n",
    "    return exp_vals"
   ]
  },
  {
   "cell_type": "code",
   "execution_count": 34,
   "id": "20438bdc",
   "metadata": {},
   "outputs": [],
   "source": [
    "class DressedQuantumNet(nn.Module):\n",
    "    \n",
    "    def __init__(self, n_features):\n",
    "        super(DressedQuantumNet, self).__init__()\n",
    "        self.pre_net = nn.Linear(n_features, n_qubits)\n",
    "        self.q_params = nn.Parameter(q_delta * torch.randn(q_depth * n_qubits))\n",
    "        self.post_net = nn.Linear(n_qubits, n_features)\n",
    "\n",
    "    def forward(self, input_features):\n",
    "        pre_out = self.pre_net(input_features)\n",
    "        q_in = pre_out\n",
    "        q_out = torch.Tensor(0, n_qubits)\n",
    "        for elem in q_in:\n",
    "            q_out_elem = quantum_net(elem, self.q_params).float().unsqueeze(0)\n",
    "            q_out = torch.cat((q_out, q_out_elem))\n",
    "        return self.post_net(q_out)"
   ]
  },
  {
   "cell_type": "code",
   "execution_count": 35,
   "id": "d96767c7",
   "metadata": {},
   "outputs": [],
   "source": [
    "class Model(nn.Module):\n",
    "    def __init__(self, num_inputs=1, hidden=32):\n",
    "        super(Model, self).__init__()\n",
    "        self.fc1 = nn.Linear(num_inputs, hidden)\n",
    "        self.fc2 = nn.Linear(hidden, hidden)\n",
    "        self.fc3 = nn.Linear(hidden, hidden)\n",
    "        self.fc4 = nn.Linear(hidden, hidden)\n",
    "        self.fc5 = DressedQuantumNet(hidden)\n",
    "        self.fc6 = nn.Linear(hidden, 1)\n",
    "        \n",
    "    def forward(self, x):\n",
    "        self.num_inputs = x.shape[0]\n",
    "        x = F.relu(self.fc1(x))\n",
    "        x = F.relu(self.fc2(x))\n",
    "        x = F.relu(self.fc3(x))\n",
    "        x = F.relu(self.fc4(x))\n",
    "        x = F.relu(self.fc5(x))\n",
    "        return self.fc6(x)"
   ]
  },
  {
   "cell_type": "markdown",
   "id": "0b4a75da",
   "metadata": {},
   "source": [
    "### 4 input parameters"
   ]
  },
  {
   "cell_type": "code",
   "execution_count": 36,
   "id": "2f21cec2-c348-4bc3-91e1-0dbcf4ca6a91",
   "metadata": {},
   "outputs": [
    {
     "data": {
      "text/plain": [
       "Index(['ph', 'Hardness', 'Solids', 'Chloramines', 'Sulfate', 'Conductivity',\n",
       "       'Organic_carbon', 'Trihalomethanes', 'Turbidity', 'Potability'],\n",
       "      dtype='object')"
      ]
     },
     "execution_count": 36,
     "metadata": {},
     "output_type": "execute_result"
    }
   ],
   "source": [
    "data.columns"
   ]
  },
  {
   "cell_type": "code",
   "execution_count": 42,
   "id": "3094c6a1-c211-425d-bdbb-70fe21faae60",
   "metadata": {
    "scrolled": true
   },
   "outputs": [],
   "source": [
    "FEATURE_COLUMNS = ['ph', 'Hardness', 'Solids', 'Chloramines']\n",
    "LABEL_COLUMN = ['Potability']\n",
    "\n",
    "x_train = torch.tensor(data_train[FEATURE_COLUMNS].values).float()\n",
    "y_train = torch.tensor(data_train[LABEL_COLUMN].values).float()"
   ]
  },
  {
   "cell_type": "code",
   "execution_count": 11,
   "id": "1234e756-fa57-47c9-942a-86e24e7cd7a7",
   "metadata": {
    "scrolled": true
   },
   "outputs": [
    {
     "name": "stdout",
     "output_type": "stream",
     "text": [
      "Average train loss over epoch 0: 0.1290\n",
      "Average test loss over epoch 0: 0.0058\n",
      "\n",
      "Average train loss over epoch 2: 0.0003\n",
      "Average test loss over epoch 2: 0.0001\n",
      "\n",
      "Average train loss over epoch 4: 0.0001\n",
      "Average test loss over epoch 4: 0.0000\n",
      "\n",
      "Best train loss: 8.324293594341725e-05\n",
      "Best test loss: 2.452312946843449e-05\n",
      "Train time: 467.1857740879059 seconds\n"
     ]
    }
   ],
   "source": [
    "x_test = torch.tensor(data_test[FEATURE_COLUMNS].values).float()\n",
    "y_test = torch.tensor(data_test[LABEL_COLUMN].values).float()\n",
    "\n",
    "model = Model(num_inputs = x_train.shape[1])\n",
    "trained_model, loss = train(x_train, y_train, x_test, y_test, model, epochs=5, \n",
    "                            learning_rate=0.0001)"
   ]
  },
  {
   "cell_type": "code",
   "execution_count": 12,
   "id": "dfd96007",
   "metadata": {},
   "outputs": [
    {
     "name": "stdout",
     "output_type": "stream",
     "text": [
      "Time: 8.811582326889038 seconds\n"
     ]
    },
    {
     "data": {
      "text/html": [
       "<div>\n",
       "<style scoped>\n",
       "    .dataframe tbody tr th:only-of-type {\n",
       "        vertical-align: middle;\n",
       "    }\n",
       "\n",
       "    .dataframe tbody tr th {\n",
       "        vertical-align: top;\n",
       "    }\n",
       "\n",
       "    .dataframe thead th {\n",
       "        text-align: right;\n",
       "    }\n",
       "</style>\n",
       "<table border=\"1\" class=\"dataframe\">\n",
       "  <thead>\n",
       "    <tr style=\"text-align: right;\">\n",
       "      <th></th>\n",
       "      <th>initial_stock_price</th>\n",
       "      <th>volatility</th>\n",
       "      <th>risk_free_rate</th>\n",
       "      <th>strike_price</th>\n",
       "      <th>option_price</th>\n",
       "      <th>predicted_option_price</th>\n",
       "    </tr>\n",
       "  </thead>\n",
       "  <tbody>\n",
       "    <tr>\n",
       "      <th>0</th>\n",
       "      <td>325.0</td>\n",
       "      <td>0.600000</td>\n",
       "      <td>0.026</td>\n",
       "      <td>31.111111</td>\n",
       "      <td>307.323368</td>\n",
       "      <td>307.056549</td>\n",
       "    </tr>\n",
       "    <tr>\n",
       "      <th>1</th>\n",
       "      <td>115.0</td>\n",
       "      <td>0.200000</td>\n",
       "      <td>0.038</td>\n",
       "      <td>52.222222</td>\n",
       "      <td>63.265262</td>\n",
       "      <td>60.831245</td>\n",
       "    </tr>\n",
       "    <tr>\n",
       "      <th>2</th>\n",
       "      <td>45.0</td>\n",
       "      <td>0.555556</td>\n",
       "      <td>0.038</td>\n",
       "      <td>94.444444</td>\n",
       "      <td>0.405437</td>\n",
       "      <td>3.151154</td>\n",
       "    </tr>\n",
       "    <tr>\n",
       "      <th>3</th>\n",
       "      <td>45.0</td>\n",
       "      <td>0.600000</td>\n",
       "      <td>0.026</td>\n",
       "      <td>31.111111</td>\n",
       "      <td>17.423759</td>\n",
       "      <td>31.564901</td>\n",
       "    </tr>\n",
       "    <tr>\n",
       "      <th>4</th>\n",
       "      <td>430.0</td>\n",
       "      <td>0.288889</td>\n",
       "      <td>0.050</td>\n",
       "      <td>157.777778</td>\n",
       "      <td>275.225067</td>\n",
       "      <td>275.969299</td>\n",
       "    </tr>\n",
       "  </tbody>\n",
       "</table>\n",
       "</div>"
      ],
      "text/plain": [
       "   initial_stock_price  volatility  risk_free_rate  strike_price  \\\n",
       "0                325.0    0.600000           0.026     31.111111   \n",
       "1                115.0    0.200000           0.038     52.222222   \n",
       "2                 45.0    0.555556           0.038     94.444444   \n",
       "3                 45.0    0.600000           0.026     31.111111   \n",
       "4                430.0    0.288889           0.050    157.777778   \n",
       "\n",
       "   option_price  predicted_option_price  \n",
       "0    307.323368              307.056549  \n",
       "1     63.265262               60.831245  \n",
       "2      0.405437                3.151154  \n",
       "3     17.423759               31.564901  \n",
       "4    275.225067              275.969299  "
      ]
     },
     "execution_count": 12,
     "metadata": {},
     "output_type": "execute_result"
    }
   ],
   "source": [
    "start_time = time.time()\n",
    "\n",
    "y_pred = trained_model(x_train)\n",
    "data_train['predicted_option_price'] = y_pred.detach().numpy()*max_option_price\n",
    "data_train['initial_stock_price'] *= max_initial_stock_price\n",
    "data_train['strike_price'] *= max_strike_price\n",
    "data_train['option_price'] *= max_option_price\n",
    "\n",
    "print(\"Time: %s seconds\" % (time.time() - start_time))\n",
    "data_train.head()"
   ]
  },
  {
   "cell_type": "code",
   "execution_count": 13,
   "id": "e012ccc7",
   "metadata": {
    "scrolled": true
   },
   "outputs": [
    {
     "name": "stdout",
     "output_type": "stream",
     "text": [
      "Time: 4.143638372421265 seconds\n"
     ]
    },
    {
     "data": {
      "text/html": [
       "<div>\n",
       "<style scoped>\n",
       "    .dataframe tbody tr th:only-of-type {\n",
       "        vertical-align: middle;\n",
       "    }\n",
       "\n",
       "    .dataframe tbody tr th {\n",
       "        vertical-align: top;\n",
       "    }\n",
       "\n",
       "    .dataframe thead th {\n",
       "        text-align: right;\n",
       "    }\n",
       "</style>\n",
       "<table border=\"1\" class=\"dataframe\">\n",
       "  <thead>\n",
       "    <tr style=\"text-align: right;\">\n",
       "      <th></th>\n",
       "      <th>initial_stock_price</th>\n",
       "      <th>volatility</th>\n",
       "      <th>risk_free_rate</th>\n",
       "      <th>strike_price</th>\n",
       "      <th>option_price</th>\n",
       "      <th>predicted_option_price</th>\n",
       "    </tr>\n",
       "  </thead>\n",
       "  <tbody>\n",
       "    <tr>\n",
       "      <th>0</th>\n",
       "      <td>325.0</td>\n",
       "      <td>0.600000</td>\n",
       "      <td>0.026</td>\n",
       "      <td>31.111111</td>\n",
       "      <td>307.323368</td>\n",
       "      <td>307.056549</td>\n",
       "    </tr>\n",
       "    <tr>\n",
       "      <th>1</th>\n",
       "      <td>115.0</td>\n",
       "      <td>0.200000</td>\n",
       "      <td>0.038</td>\n",
       "      <td>52.222222</td>\n",
       "      <td>63.265262</td>\n",
       "      <td>60.831245</td>\n",
       "    </tr>\n",
       "    <tr>\n",
       "      <th>2</th>\n",
       "      <td>45.0</td>\n",
       "      <td>0.555556</td>\n",
       "      <td>0.038</td>\n",
       "      <td>94.444444</td>\n",
       "      <td>0.405437</td>\n",
       "      <td>3.151154</td>\n",
       "    </tr>\n",
       "    <tr>\n",
       "      <th>3</th>\n",
       "      <td>45.0</td>\n",
       "      <td>0.600000</td>\n",
       "      <td>0.026</td>\n",
       "      <td>31.111111</td>\n",
       "      <td>17.423759</td>\n",
       "      <td>31.564901</td>\n",
       "    </tr>\n",
       "    <tr>\n",
       "      <th>4</th>\n",
       "      <td>430.0</td>\n",
       "      <td>0.288889</td>\n",
       "      <td>0.050</td>\n",
       "      <td>157.777778</td>\n",
       "      <td>275.225067</td>\n",
       "      <td>275.969299</td>\n",
       "    </tr>\n",
       "  </tbody>\n",
       "</table>\n",
       "</div>"
      ],
      "text/plain": [
       "   initial_stock_price  volatility  risk_free_rate  strike_price  \\\n",
       "0                325.0    0.600000           0.026     31.111111   \n",
       "1                115.0    0.200000           0.038     52.222222   \n",
       "2                 45.0    0.555556           0.038     94.444444   \n",
       "3                 45.0    0.600000           0.026     31.111111   \n",
       "4                430.0    0.288889           0.050    157.777778   \n",
       "\n",
       "   option_price  predicted_option_price  \n",
       "0    307.323368              307.056549  \n",
       "1     63.265262               60.831245  \n",
       "2      0.405437                3.151154  \n",
       "3     17.423759               31.564901  \n",
       "4    275.225067              275.969299  "
      ]
     },
     "execution_count": 13,
     "metadata": {},
     "output_type": "execute_result"
    }
   ],
   "source": [
    "start_time = time.time()\n",
    "\n",
    "y_pred = trained_model(x_test)\n",
    "data_test['predicted_option_price'] = y_pred.detach().numpy()*max_option_price\n",
    "data_test['initial_stock_price'] *= max_initial_stock_price\n",
    "data_test['strike_price'] *= max_strike_price\n",
    "data_test['option_price'] *= max_option_price\n",
    "\n",
    "print(\"Time: %s seconds\" % (time.time() - start_time))\n",
    "data_train.head()"
   ]
  },
  {
   "cell_type": "code",
   "execution_count": 14,
   "id": "c5af91f3",
   "metadata": {},
   "outputs": [],
   "source": [
    "data_train.to_csv('hybrid_nn_dqc_train.csv', index=False)\n",
    "data_test.to_csv('hybrid_nn_dqc_test.csv', index=False)"
   ]
  },
  {
   "cell_type": "code",
   "execution_count": 15,
   "id": "ac8b848e",
   "metadata": {},
   "outputs": [
    {
     "data": {
      "text/html": [
       "<div>\n",
       "<style scoped>\n",
       "    .dataframe tbody tr th:only-of-type {\n",
       "        vertical-align: middle;\n",
       "    }\n",
       "\n",
       "    .dataframe tbody tr th {\n",
       "        vertical-align: top;\n",
       "    }\n",
       "\n",
       "    .dataframe thead th {\n",
       "        text-align: right;\n",
       "    }\n",
       "</style>\n",
       "<table border=\"1\" class=\"dataframe\">\n",
       "  <thead>\n",
       "    <tr style=\"text-align: right;\">\n",
       "      <th></th>\n",
       "      <th>train_loss</th>\n",
       "      <th>test_loss</th>\n",
       "    </tr>\n",
       "  </thead>\n",
       "  <tbody>\n",
       "    <tr>\n",
       "      <th>0</th>\n",
       "      <td>0.128954</td>\n",
       "      <td>0.005775</td>\n",
       "    </tr>\n",
       "    <tr>\n",
       "      <th>1</th>\n",
       "      <td>0.002195</td>\n",
       "      <td>0.000219</td>\n",
       "    </tr>\n",
       "    <tr>\n",
       "      <th>2</th>\n",
       "      <td>0.000318</td>\n",
       "      <td>0.000078</td>\n",
       "    </tr>\n",
       "    <tr>\n",
       "      <th>3</th>\n",
       "      <td>0.000146</td>\n",
       "      <td>0.000043</td>\n",
       "    </tr>\n",
       "    <tr>\n",
       "      <th>4</th>\n",
       "      <td>0.000083</td>\n",
       "      <td>0.000025</td>\n",
       "    </tr>\n",
       "  </tbody>\n",
       "</table>\n",
       "</div>"
      ],
      "text/plain": [
       "   train_loss  test_loss\n",
       "0    0.128954   0.005775\n",
       "1    0.002195   0.000219\n",
       "2    0.000318   0.000078\n",
       "3    0.000146   0.000043\n",
       "4    0.000083   0.000025"
      ]
     },
     "execution_count": 15,
     "metadata": {},
     "output_type": "execute_result"
    }
   ],
   "source": [
    "loss_data = pd.DataFrame()\n",
    "loss_data['train_loss'] = loss[0]\n",
    "loss_data['test_loss'] = loss[1]\n",
    "loss_data.to_csv('hybrid_nn_dqc_loss.csv', index=False)\n",
    "loss_data.head()"
   ]
  },
  {
   "cell_type": "code",
   "execution_count": 16,
   "id": "c58cd8a2",
   "metadata": {},
   "outputs": [
    {
     "data": {
      "image/png": "[encoded data removed]",
      "text/plain": [
       "<Figure size 720x288 with 2 Axes>"
      ]
     },
     "metadata": {
      "needs_background": "light"
     },
     "output_type": "display_data"
    }
   ],
   "source": [
    "plot_loss(loss, 'hybrid_nn_dqc_loss')"
   ]
  },
  {
   "cell_type": "code",
   "execution_count": 17,
   "id": "89bed7fb",
   "metadata": {},
   "outputs": [
    {
     "data": {
      "image/png": "[encoded data removed]",
      "text/plain": [
       "<Figure size 720x288 with 2 Axes>"
      ]
     },
     "metadata": {
      "needs_background": "light"
     },
     "output_type": "display_data"
    }
   ],
   "source": [
    "plot_stock_prices(data_train, data_test, title='hybrid_nn_dqc')"
   ]
  },
  {
   "cell_type": "code",
   "execution_count": null,
   "id": "55c4cdbf",
   "metadata": {},
   "outputs": [],
   "source": []
  },
  {
   "cell_type": "code",
   "execution_count": null,
   "id": "e5888132",
   "metadata": {},
   "outputs": [],
   "source": []
  }
 ],
 "metadata": {
  "kernelspec": {
   "display_name": "Python 3 (ipykernel)",
   "language": "python",
   "name": "python3"
  },
  "language_info": {
   "codemirror_mode": {
    "name": "ipython",
    "version": 3
   },
   "file_extension": ".py",
   "mimetype": "text/x-python",
   "name": "python",
   "nbconvert_exporter": "python",
   "pygments_lexer": "ipython3",
   "version": "3.8.10"
  }
 },
 "nbformat": 4,
 "nbformat_minor": 5
}
