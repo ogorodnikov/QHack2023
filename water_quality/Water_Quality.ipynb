{
 "cells": [
  {
   "cell_type": "code",
   "execution_count": 1,
   "id": "ac3c9637",
   "metadata": {},
   "outputs": [],
   "source": [
    "import time\n",
    "import tqdm\n",
    "\n",
    "import pandas as pd\n",
    "\n",
    "import pennylane as qml\n",
    "\n",
    "import torch\n",
    "import torch.nn as nn\n",
    "import torch.nn.functional as F\n",
    "\n",
    "from sklearn.metrics import r2_score\n",
    "from sklearn.preprocessing import StandardScaler\n",
    "\n",
    "from matplotlib import pyplot as plt\n",
    "\n",
    "plt.style.use(\"dark_background\")"
   ]
  },
  {
   "cell_type": "markdown",
   "id": "20f6a24a",
   "metadata": {
    "tags": []
   },
   "source": [
    "### Functions"
   ]
  },
  {
   "cell_type": "code",
   "execution_count": 2,
   "id": "25cedc92",
   "metadata": {},
   "outputs": [],
   "source": [
    "def fit(model, loss_function, optimizer, fields, targets):\n",
    "\n",
    "    model.train()\n",
    "\n",
    "    predictions = model(fields)\n",
    "\n",
    "    loss = loss_function(predictions, targets.float())\n",
    "\n",
    "    model.zero_grad()\n",
    "\n",
    "    loss.backward()\n",
    "\n",
    "    optimizer.step()\n",
    "\n",
    "    return loss.item()\n",
    "\n",
    "\n",
    "def predict(model, fields):\n",
    "\n",
    "    model.eval()\n",
    "\n",
    "    with torch.no_grad():\n",
    "\n",
    "        if not isinstance(fields, torch.Tensor):\n",
    "\n",
    "            fields = torch.tensor(fields)\n",
    "\n",
    "        predictions = model(fields).numpy()\n",
    "\n",
    "    return predictions\n",
    "\n",
    "\n",
    "def batch_predict(model, data_loader):\n",
    "\n",
    "    targets = []\n",
    "    predictions = []\n",
    "\n",
    "    for fields, target in data_loader:\n",
    "\n",
    "        prediction = predict(model, fields)\n",
    "\n",
    "        targets.extend(target.tolist())\n",
    "        predictions.extend(prediction.tolist())\n",
    "\n",
    "    score = r2_score(targets, predictions)\n",
    "\n",
    "    return predictions, score\n",
    "\n",
    "\n",
    "def train(x_train, y_train, \n",
    "          x_test, y_test, \n",
    "          model,\n",
    "          epochs=50,\n",
    "          batch_size=8,\n",
    "          learning_rate=0.001, \n",
    "          weight_decay=1e-6,\n",
    "          printout_period=1):\n",
    "    \n",
    "    start_time = time.time()\n",
    "    \n",
    "    records_count = len(x_train)\n",
    "\n",
    "    batches = records_count // batch_size\n",
    "    \n",
    "    # loss_function = nn.MSELoss()\n",
    "    \n",
    "    loss_function = nn.BCELoss()\n",
    "    \n",
    "    optimizer = torch.optim.Adam(params=model.parameters(), \n",
    "                                 lr=learning_rate,\n",
    "                                 weight_decay=weight_decay)\n",
    "    \n",
    "    data_loader_train = torch.utils.data.DataLoader(\n",
    "        list(zip(x_train, y_train)), \n",
    "        batch_size=batch_size, shuffle=True, drop_last=True\n",
    "    )\n",
    "    \n",
    "    data_loader_test = torch.utils.data.DataLoader(\n",
    "        list(zip(x_test, y_test)), \n",
    "        batch_size=batch_size, shuffle=True, drop_last=True\n",
    "    )\n",
    "    \n",
    "    best_model = model\n",
    "    best_avg_train_loss = 0\n",
    "    best_avg_test_loss = 0\n",
    "    \n",
    "    train_losses = []\n",
    "    test_losses = []\n",
    "        \n",
    "    total_records_count = epochs * records_count\n",
    "    \n",
    "    fit_batch_tracker = tqdm.trange(\n",
    "        total_records_count,\n",
    "        unit=' records',\n",
    "        unit_scale=True,\n",
    "        ncols=90,\n",
    "        mininterval=1\n",
    "    )\n",
    "    \n",
    "    for epoch in range(epochs):\n",
    "        \n",
    "        fit_batch_tracker.set_description(f\"Epoch: {epoch + 1}\")\n",
    "               \n",
    "        epoch_train_loss = 0\n",
    "        \n",
    "        for xs, ys in data_loader_train:\n",
    "                   \n",
    "            loss_evaluated = fit(model, loss_function, optimizer, xs, ys)\n",
    "            \n",
    "            epoch_train_loss += loss_evaluated\n",
    "            \n",
    "            fit_batch_tracker.update(batch_size)\n",
    "\n",
    "            predictions = predict(model, xs)\n",
    "            \n",
    "        \n",
    "#         predictions, r2_train = batch_predict(model, data_loader_test)\n",
    "        \n",
    "#         print(\"r2_train:\", r2_train)\n",
    "\n",
    "        # fit_batch_tracker.set_postfix(r2=f\"{r2_train:.02f}\")\n",
    "            \n",
    "        avg_train_loss = epoch_train_loss / batches\n",
    "        train_losses.append(avg_train_loss)\n",
    "        \n",
    "        # Test\n",
    "        \n",
    "        model.eval()\n",
    "        \n",
    "        epoch_test_loss = 0\n",
    "        \n",
    "        for xs, ys in data_loader_test:\n",
    "            \n",
    "            loss_evaluated = loss_function(model(xs), ys)\n",
    "            epoch_test_loss += loss_evaluated\n",
    "            \n",
    "        avg_test_loss = epoch_test_loss / batches\n",
    "        \n",
    "        test_losses.append(avg_test_loss)\n",
    "        \n",
    "#         predictions, r2_test = batch_predict(model, data_loader_test)\n",
    "        \n",
    "#         print(\"r2_test:\", r2_test)\n",
    "        \n",
    "        \n",
    "        if epoch == 0:\n",
    "            best_avg_test_loss = avg_test_loss\n",
    "            \n",
    "        if avg_test_loss < best_avg_test_loss:\n",
    "            best_avg_test_loss = avg_test_loss\n",
    "            best_model = model\n",
    "            \n",
    "        if not epoch % printout_period:\n",
    "            print(\"Average train loss over epoch {}: {:.4f}\".format(epoch, avg_train_loss))\n",
    "            print(\"Average test loss over epoch {}: {:.4f}\\n\".format(epoch, avg_test_loss))\n",
    "    \n",
    "    print(f\"Best train loss: {min(train_losses):.02f}\")\n",
    "    print(f\"Best test loss: {best_avg_test_loss:.02f}\")\n",
    "    print(f\"Train time: {time.time() - start_time:.02f} seconds\")\n",
    "    \n",
    "    return best_model, (torch.tensor(train_losses), torch.tensor(test_losses))"
   ]
  },
  {
   "cell_type": "markdown",
   "id": "f17bbfbe",
   "metadata": {},
   "source": [
    "### Data"
   ]
  },
  {
   "cell_type": "code",
   "execution_count": 3,
   "id": "75d4b0d5",
   "metadata": {
    "scrolled": true
   },
   "outputs": [
    {
     "data": {
      "text/plain": [
       "(2011, 10)"
      ]
     },
     "execution_count": 3,
     "metadata": {},
     "output_type": "execute_result"
    }
   ],
   "source": [
    "data = pd.read_csv('water_potability.csv')\n",
    "\n",
    "data.dropna(inplace=True)\n",
    "\n",
    "data.shape"
   ]
  },
  {
   "cell_type": "code",
   "execution_count": 4,
   "id": "3c7ae59e-455e-4451-83f3-fb2bb6b3707d",
   "metadata": {},
   "outputs": [
    {
     "data": {
      "text/html": [
       "<div>\n",
       "<style scoped>\n",
       "    .dataframe tbody tr th:only-of-type {\n",
       "        vertical-align: middle;\n",
       "    }\n",
       "\n",
       "    .dataframe tbody tr th {\n",
       "        vertical-align: top;\n",
       "    }\n",
       "\n",
       "    .dataframe thead th {\n",
       "        text-align: right;\n",
       "    }\n",
       "</style>\n",
       "<table border=\"1\" class=\"dataframe\">\n",
       "  <thead>\n",
       "    <tr style=\"text-align: right;\">\n",
       "      <th></th>\n",
       "      <th>ph</th>\n",
       "      <th>Hardness</th>\n",
       "      <th>Solids</th>\n",
       "      <th>Chloramines</th>\n",
       "      <th>Sulfate</th>\n",
       "      <th>Conductivity</th>\n",
       "      <th>Organic_carbon</th>\n",
       "      <th>Trihalomethanes</th>\n",
       "      <th>Turbidity</th>\n",
       "      <th>Potability</th>\n",
       "    </tr>\n",
       "  </thead>\n",
       "  <tbody>\n",
       "    <tr>\n",
       "      <th>3</th>\n",
       "      <td>8.316766</td>\n",
       "      <td>214.373394</td>\n",
       "      <td>22018.417441</td>\n",
       "      <td>8.059332</td>\n",
       "      <td>356.886136</td>\n",
       "      <td>363.266516</td>\n",
       "      <td>18.436524</td>\n",
       "      <td>100.341674</td>\n",
       "      <td>4.628771</td>\n",
       "      <td>0</td>\n",
       "    </tr>\n",
       "    <tr>\n",
       "      <th>4</th>\n",
       "      <td>9.092223</td>\n",
       "      <td>181.101509</td>\n",
       "      <td>17978.986339</td>\n",
       "      <td>6.546600</td>\n",
       "      <td>310.135738</td>\n",
       "      <td>398.410813</td>\n",
       "      <td>11.558279</td>\n",
       "      <td>31.997993</td>\n",
       "      <td>4.075075</td>\n",
       "      <td>0</td>\n",
       "    </tr>\n",
       "    <tr>\n",
       "      <th>5</th>\n",
       "      <td>5.584087</td>\n",
       "      <td>188.313324</td>\n",
       "      <td>28748.687739</td>\n",
       "      <td>7.544869</td>\n",
       "      <td>326.678363</td>\n",
       "      <td>280.467916</td>\n",
       "      <td>8.399735</td>\n",
       "      <td>54.917862</td>\n",
       "      <td>2.559708</td>\n",
       "      <td>0</td>\n",
       "    </tr>\n",
       "    <tr>\n",
       "      <th>6</th>\n",
       "      <td>10.223862</td>\n",
       "      <td>248.071735</td>\n",
       "      <td>28749.716544</td>\n",
       "      <td>7.513408</td>\n",
       "      <td>393.663396</td>\n",
       "      <td>283.651634</td>\n",
       "      <td>13.789695</td>\n",
       "      <td>84.603556</td>\n",
       "      <td>2.672989</td>\n",
       "      <td>0</td>\n",
       "    </tr>\n",
       "    <tr>\n",
       "      <th>7</th>\n",
       "      <td>8.635849</td>\n",
       "      <td>203.361523</td>\n",
       "      <td>13672.091764</td>\n",
       "      <td>4.563009</td>\n",
       "      <td>303.309771</td>\n",
       "      <td>474.607645</td>\n",
       "      <td>12.363817</td>\n",
       "      <td>62.798309</td>\n",
       "      <td>4.401425</td>\n",
       "      <td>0</td>\n",
       "    </tr>\n",
       "  </tbody>\n",
       "</table>\n",
       "</div>"
      ],
      "text/plain": [
       "          ph    Hardness        Solids  Chloramines     Sulfate  Conductivity  \\\n",
       "3   8.316766  214.373394  22018.417441     8.059332  356.886136    363.266516   \n",
       "4   9.092223  181.101509  17978.986339     6.546600  310.135738    398.410813   \n",
       "5   5.584087  188.313324  28748.687739     7.544869  326.678363    280.467916   \n",
       "6  10.223862  248.071735  28749.716544     7.513408  393.663396    283.651634   \n",
       "7   8.635849  203.361523  13672.091764     4.563009  303.309771    474.607645   \n",
       "\n",
       "   Organic_carbon  Trihalomethanes  Turbidity  Potability  \n",
       "3       18.436524       100.341674   4.628771           0  \n",
       "4       11.558279        31.997993   4.075075           0  \n",
       "5        8.399735        54.917862   2.559708           0  \n",
       "6       13.789695        84.603556   2.672989           0  \n",
       "7       12.363817        62.798309   4.401425           0  "
      ]
     },
     "execution_count": 4,
     "metadata": {},
     "output_type": "execute_result"
    }
   ],
   "source": [
    "data.head()"
   ]
  },
  {
   "cell_type": "code",
   "execution_count": 5,
   "id": "a4e73b6d-fc29-44b3-8bc4-ebd33cafeb34",
   "metadata": {},
   "outputs": [],
   "source": [
    "# # Feature Scaling\n",
    "\n",
    "# standard_scaler = StandardScaler()\n",
    "\n",
    "# FEATURE_COLUMNS = data.columns[:-1]\n",
    "\n",
    "# scaled_features = standard_scaler.fit_transform(data[FEATURE_COLUMNS])\n",
    "\n",
    "# data[FEATURE_COLUMNS] = scaled_features\n",
    "\n",
    "# data.head()"
   ]
  },
  {
   "cell_type": "code",
   "execution_count": 6,
   "id": "b5c43dcd-6bc5-4bd5-9bce-849ec346fcd8",
   "metadata": {},
   "outputs": [
    {
     "name": "stdout",
     "output_type": "stream",
     "text": [
      "2011 1407 604\n"
     ]
    }
   ],
   "source": [
    "DATA_LIMIT = 2011\n",
    "\n",
    "limited_data = data[:DATA_LIMIT].copy()\n",
    "\n",
    "train_length = int(len(limited_data) * 0.7)\n",
    "\n",
    "data_train = limited_data[:train_length].copy()\n",
    "data_test = limited_data[train_length:].copy()\n",
    "\n",
    "print(len(limited_data), len(data_train), len(data_test))"
   ]
  },
  {
   "cell_type": "markdown",
   "id": "05fda6a6",
   "metadata": {},
   "source": [
    "### Model"
   ]
  },
  {
   "cell_type": "code",
   "execution_count": 7,
   "id": "f05f19f0",
   "metadata": {},
   "outputs": [],
   "source": [
    "n_qubits = 4\n",
    "q_delta = 0.01\n",
    "q_depth = 1\n",
    "\n",
    "dev = qml.device(\"lightning.qubit\", wires=n_qubits)\n",
    "\n",
    "@qml.qnode(dev, interface=\"torch\")\n",
    "def quantum_net(q_input_features, q_weights):\n",
    "    for idx in range(n_qubits):\n",
    "        qml.Hadamard(wires=idx)\n",
    "    for idx, element in enumerate(q_input_features):\n",
    "        qml.RY(element, wires=idx)\n",
    "    for k in range(q_depth):\n",
    "        for i in range(0, n_qubits - 1, 2):\n",
    "            qml.CNOT(wires=[i, i + 1])\n",
    "        for i in range(1, n_qubits - 1, 2):\n",
    "            qml.CNOT(wires=[i, i + 1])\n",
    "        for idx, element in enumerate(q_weights):\n",
    "            qml.RY(element, wires=idx)\n",
    "    exp_vals = [qml.expval(qml.PauliZ(position)) for position in range(n_qubits)]\n",
    "    return exp_vals"
   ]
  },
  {
   "cell_type": "code",
   "execution_count": 8,
   "id": "20438bdc",
   "metadata": {},
   "outputs": [],
   "source": [
    "class DressedQuantumNet(nn.Module):\n",
    "    \n",
    "    def __init__(self, n_features):\n",
    "        super(DressedQuantumNet, self).__init__()\n",
    "        self.pre_net = nn.Linear(n_features, n_qubits)\n",
    "        self.q_params = nn.Parameter(q_delta * torch.randn(q_depth * n_qubits))\n",
    "        self.post_net = nn.Linear(n_qubits, n_features)\n",
    "\n",
    "    def forward(self, input_features):\n",
    "        pre_out = self.pre_net(input_features)\n",
    "        q_in = pre_out\n",
    "        q_out = torch.Tensor(0, n_qubits)\n",
    "        for elem in q_in:\n",
    "            q_out_elem = quantum_net(elem, self.q_params).float().unsqueeze(0)\n",
    "            q_out = torch.cat((q_out, q_out_elem))\n",
    "        return self.post_net(q_out)"
   ]
  },
  {
   "cell_type": "code",
   "execution_count": 9,
   "id": "d96767c7",
   "metadata": {},
   "outputs": [],
   "source": [
    "class Model(nn.Module):\n",
    "    def __init__(self, num_inputs=1, hidden=32):\n",
    "        super(Model, self).__init__()\n",
    "        self.fc1 = nn.Linear(num_inputs, hidden)\n",
    "        # self.fc2 = nn.Linear(hidden, hidden)\n",
    "        # self.fc3 = nn.Linear(hidden, hidden)\n",
    "        # self.fc4 = nn.Linear(hidden, hidden)\n",
    "        self.dressed = DressedQuantumNet(hidden)\n",
    "        self.fc6 = nn.Linear(hidden, 1)\n",
    "        self.softmax = nn.Softmax(dim=1)\n",
    "        \n",
    "    def forward(self, x):\n",
    "        self.num_inputs = x.shape[0]\n",
    "        x = F.relu(self.fc1(x))\n",
    "        # x = F.relu(self.fc2(x))\n",
    "        # x = F.relu(self.fc3(x))\n",
    "        # x = F.relu(self.fc4(x))\n",
    "        x = F.relu(self.dressed(x))\n",
    "        x = self.fc6(x)\n",
    "        \n",
    "        # x = F.sigmoid(x)\n",
    "        \n",
    "        # print(x)\n",
    "        \n",
    "        return x"
   ]
  },
  {
   "cell_type": "code",
   "execution_count": 10,
   "id": "b11c422b-7dfe-4189-b87c-411ebee293f7",
   "metadata": {},
   "outputs": [],
   "source": [
    "class ClassicalModel(nn.Module):\n",
    "    def __init__(self, num_inputs=1, hidden=32):\n",
    "        super(ClassicalModel, self).__init__()\n",
    "        self.fc1 = nn.Linear(num_inputs, hidden)\n",
    "        self.fc2 = nn.Linear(hidden, hidden)\n",
    "        self.fc3 = nn.Linear(hidden, hidden)\n",
    "        self.fc4 = nn.Linear(hidden, hidden)\n",
    "        self.fc5 = nn.Linear(hidden, hidden)\n",
    "        self.fc6 = nn.Linear(hidden, 1)\n",
    "        \n",
    "    def forward(self, x):\n",
    "        self.num_inputs = x.shape[0]\n",
    "        x = F.relu(self.fc1(x))\n",
    "        x = F.relu(self.fc2(x))\n",
    "        x = F.relu(self.fc3(x))\n",
    "        x = F.relu(self.fc4(x))\n",
    "        x = F.relu(self.fc5(x))\n",
    "        x = self.fc6(x)\n",
    "        \n",
    "        # x = F.softmax(x, dim=1)\n",
    "        x = torch.sigmoid(x)\n",
    "        \n",
    "        # print(x)\n",
    "        \n",
    "        return x"
   ]
  },
  {
   "cell_type": "markdown",
   "id": "0b4a75da",
   "metadata": {
    "tags": []
   },
   "source": [
    "### 4 input parameters"
   ]
  },
  {
   "cell_type": "code",
   "execution_count": 11,
   "id": "3d5ce097-4b54-443b-b483-e926ea9b6588",
   "metadata": {
    "scrolled": true
   },
   "outputs": [],
   "source": [
    "FEATURE_COLUMNS = data_train.columns[:-1]\n",
    "\n",
    "# FEATURE_COLUMNS = ['Hardness', 'Solids', 'Chloramines', 'Conductivity'] \n",
    "                   # 'Organic_carbon', 'Turbidity']\n",
    "LABEL_COLUMN = ['Potability']\n",
    "\n",
    "x_train = torch.tensor(data_train[FEATURE_COLUMNS].values).float()\n",
    "y_train = torch.tensor(data_train[LABEL_COLUMN].values).float()\n",
    "\n",
    "x_test = torch.tensor(data_test[FEATURE_COLUMNS].values).float()\n",
    "y_test = torch.tensor(data_test[LABEL_COLUMN].values).float()"
   ]
  },
  {
   "cell_type": "code",
   "execution_count": 12,
   "id": "683b9df9-aed6-432e-b264-a76601646f58",
   "metadata": {
    "scrolled": true
   },
   "outputs": [],
   "source": [
    "num_inputs = x_train.shape[1]\n",
    "\n",
    "# model = Model(num_inputs=num_inputs)\n",
    "\n",
    "model = ClassicalModel(num_inputs=num_inputs)"
   ]
  },
  {
   "cell_type": "code",
   "execution_count": 15,
   "id": "4883ebe8-c8f9-4362-8d7e-af1d7932770b",
   "metadata": {
    "scrolled": true,
    "tags": []
   },
   "outputs": [
    {
     "name": "stderr",
     "output_type": "stream",
     "text": [
      "Epoch: 2:   1%|▎                               | 1.40k/141k [00:00<00:26, 5.17k records/s]"
     ]
    },
    {
     "name": "stdout",
     "output_type": "stream",
     "text": [
      "Average train loss over epoch 0: 0.6762\n",
      "Average test loss over epoch 0: 0.3030\n",
      "\n"
     ]
    },
    {
     "name": "stderr",
     "output_type": "stream",
     "text": [
      "Epoch: 3:   2%|▋                               | 2.80k/141k [00:00<00:26, 5.30k records/s]"
     ]
    },
    {
     "name": "stdout",
     "output_type": "stream",
     "text": [
      "Average train loss over epoch 1: 0.6775\n",
      "Average test loss over epoch 1: 0.3575\n",
      "\n"
     ]
    },
    {
     "name": "stderr",
     "output_type": "stream",
     "text": [
      "Epoch: 4:   3%|▉                               | 4.20k/141k [00:00<00:25, 5.30k records/s]"
     ]
    },
    {
     "name": "stdout",
     "output_type": "stream",
     "text": [
      "Average train loss over epoch 2: 0.6768\n",
      "Average test loss over epoch 2: 0.3180\n",
      "\n"
     ]
    },
    {
     "name": "stderr",
     "output_type": "stream",
     "text": [
      "Epoch: 5:   4%|█▎                              | 5.60k/141k [00:01<00:24, 5.42k records/s]"
     ]
    },
    {
     "name": "stdout",
     "output_type": "stream",
     "text": [
      "Average train loss over epoch 3: 0.6697\n",
      "Average test loss over epoch 3: 0.2987\n",
      "\n"
     ]
    },
    {
     "name": "stderr",
     "output_type": "stream",
     "text": [
      "Epoch: 6:   5%|█▌                              | 7.00k/141k [00:01<00:24, 5.42k records/s]"
     ]
    },
    {
     "name": "stdout",
     "output_type": "stream",
     "text": [
      "Average train loss over epoch 4: 0.6738\n",
      "Average test loss over epoch 4: 0.3708\n",
      "\n"
     ]
    },
    {
     "name": "stderr",
     "output_type": "stream",
     "text": [
      "Epoch: 7:   6%|█▉                              | 8.40k/141k [00:01<00:24, 5.42k records/s]"
     ]
    },
    {
     "name": "stdout",
     "output_type": "stream",
     "text": [
      "Average train loss over epoch 5: 0.6704\n",
      "Average test loss over epoch 5: 0.3095\n",
      "\n"
     ]
    },
    {
     "name": "stderr",
     "output_type": "stream",
     "text": [
      "Epoch: 8:   8%|██▍                             | 10.8k/141k [00:02<00:24, 5.35k records/s]"
     ]
    },
    {
     "name": "stdout",
     "output_type": "stream",
     "text": [
      "Average train loss over epoch 6: 0.6824\n",
      "Average test loss over epoch 6: 0.3002\n",
      "\n"
     ]
    },
    {
     "name": "stderr",
     "output_type": "stream",
     "text": [
      "Epoch: 9:   8%|██▌                             | 11.2k/141k [00:02<00:24, 5.35k records/s]"
     ]
    },
    {
     "name": "stdout",
     "output_type": "stream",
     "text": [
      "Average train loss over epoch 7: 0.6715\n",
      "Average test loss over epoch 7: 0.3080\n",
      "\n"
     ]
    },
    {
     "name": "stderr",
     "output_type": "stream",
     "text": [
      "Epoch: 10:   9%|██▊                            | 12.6k/141k [00:02<00:23, 5.35k records/s]"
     ]
    },
    {
     "name": "stdout",
     "output_type": "stream",
     "text": [
      "Average train loss over epoch 8: 0.6741\n",
      "Average test loss over epoch 8: 0.3698\n",
      "\n"
     ]
    },
    {
     "name": "stderr",
     "output_type": "stream",
     "text": [
      "Epoch: 11:  10%|███                            | 14.0k/141k [00:02<00:23, 5.35k records/s]"
     ]
    },
    {
     "name": "stdout",
     "output_type": "stream",
     "text": [
      "Average train loss over epoch 9: 0.6799\n",
      "Average test loss over epoch 9: 0.3469\n",
      "\n"
     ]
    },
    {
     "name": "stderr",
     "output_type": "stream",
     "text": [
      "Epoch: 12:  12%|███▌                           | 16.2k/141k [00:03<00:23, 5.33k records/s]"
     ]
    },
    {
     "name": "stdout",
     "output_type": "stream",
     "text": [
      "Average train loss over epoch 10: 0.6598\n",
      "Average test loss over epoch 10: 0.3001\n",
      "\n"
     ]
    },
    {
     "name": "stderr",
     "output_type": "stream",
     "text": [
      "Epoch: 13:  12%|███▋                           | 16.8k/141k [00:03<00:23, 5.33k records/s]"
     ]
    },
    {
     "name": "stdout",
     "output_type": "stream",
     "text": [
      "Average train loss over epoch 11: 0.6661\n",
      "Average test loss over epoch 11: 0.3090\n",
      "\n"
     ]
    },
    {
     "name": "stderr",
     "output_type": "stream",
     "text": [
      "Epoch: 14:  13%|████                           | 18.2k/141k [00:03<00:22, 5.33k records/s]"
     ]
    },
    {
     "name": "stdout",
     "output_type": "stream",
     "text": [
      "Average train loss over epoch 12: 0.6679\n",
      "Average test loss over epoch 12: 0.3006\n",
      "\n"
     ]
    },
    {
     "name": "stderr",
     "output_type": "stream",
     "text": [
      "Epoch: 15:  14%|████▎                          | 19.6k/141k [00:03<00:22, 5.33k records/s]"
     ]
    },
    {
     "name": "stdout",
     "output_type": "stream",
     "text": [
      "Average train loss over epoch 13: 0.6733\n",
      "Average test loss over epoch 13: 0.2988\n",
      "\n"
     ]
    },
    {
     "name": "stderr",
     "output_type": "stream",
     "text": [
      "Epoch: 16:  15%|████▋                          | 21.5k/141k [00:04<00:22, 5.26k records/s]"
     ]
    },
    {
     "name": "stdout",
     "output_type": "stream",
     "text": [
      "Average train loss over epoch 14: 0.6660\n",
      "Average test loss over epoch 14: 0.3054\n",
      "\n"
     ]
    },
    {
     "name": "stderr",
     "output_type": "stream",
     "text": [
      "Epoch: 17:  16%|████▉                          | 22.4k/141k [00:04<00:22, 5.26k records/s]"
     ]
    },
    {
     "name": "stdout",
     "output_type": "stream",
     "text": [
      "Average train loss over epoch 15: 0.6699\n",
      "Average test loss over epoch 15: 0.3557\n",
      "\n"
     ]
    },
    {
     "name": "stderr",
     "output_type": "stream",
     "text": [
      "Epoch: 18:  17%|█████▏                         | 23.8k/141k [00:04<00:22, 5.26k records/s]"
     ]
    },
    {
     "name": "stdout",
     "output_type": "stream",
     "text": [
      "Average train loss over epoch 16: 0.6877\n",
      "Average test loss over epoch 16: 0.3407\n",
      "\n"
     ]
    },
    {
     "name": "stderr",
     "output_type": "stream",
     "text": [
      "Epoch: 19:  18%|█████▌                         | 25.2k/141k [00:04<00:21, 5.26k records/s]"
     ]
    },
    {
     "name": "stdout",
     "output_type": "stream",
     "text": [
      "Average train loss over epoch 17: 0.6572\n",
      "Average test loss over epoch 17: 0.3543\n",
      "\n"
     ]
    },
    {
     "name": "stderr",
     "output_type": "stream",
     "text": [
      "Epoch: 20:  19%|█████▉                         | 26.8k/141k [00:05<00:22, 5.15k records/s]"
     ]
    },
    {
     "name": "stdout",
     "output_type": "stream",
     "text": [
      "Average train loss over epoch 18: 0.6724\n",
      "Average test loss over epoch 18: 0.3082\n",
      "\n"
     ]
    },
    {
     "name": "stderr",
     "output_type": "stream",
     "text": [
      "Epoch: 21:  20%|██████▏                        | 28.0k/141k [00:05<00:21, 5.15k records/s]"
     ]
    },
    {
     "name": "stdout",
     "output_type": "stream",
     "text": [
      "Average train loss over epoch 19: 0.6645\n",
      "Average test loss over epoch 19: 0.2997\n",
      "\n"
     ]
    },
    {
     "name": "stderr",
     "output_type": "stream",
     "text": [
      "Epoch: 22:  21%|██████▍                        | 29.4k/141k [00:05<00:21, 5.15k records/s]"
     ]
    },
    {
     "name": "stdout",
     "output_type": "stream",
     "text": [
      "Average train loss over epoch 20: 0.6549\n",
      "Average test loss over epoch 20: 0.3005\n",
      "\n"
     ]
    },
    {
     "name": "stderr",
     "output_type": "stream",
     "text": [
      "Epoch: 23:  22%|██████▊                        | 30.8k/141k [00:05<00:21, 5.15k records/s]"
     ]
    },
    {
     "name": "stdout",
     "output_type": "stream",
     "text": [
      "Average train loss over epoch 21: 0.6617\n",
      "Average test loss over epoch 21: 0.3564\n",
      "\n"
     ]
    },
    {
     "name": "stderr",
     "output_type": "stream",
     "text": [
      "Epoch: 24:  23%|███████                        | 32.2k/141k [00:06<00:21, 5.10k records/s]"
     ]
    },
    {
     "name": "stdout",
     "output_type": "stream",
     "text": [
      "Average train loss over epoch 22: 0.6683\n",
      "Average test loss over epoch 22: 0.3010\n",
      "\n"
     ]
    },
    {
     "name": "stderr",
     "output_type": "stream",
     "text": [
      "Epoch: 25:  24%|███████▍                       | 33.6k/141k [00:06<00:21, 5.10k records/s]"
     ]
    },
    {
     "name": "stdout",
     "output_type": "stream",
     "text": [
      "Average train loss over epoch 23: 0.6785\n",
      "Average test loss over epoch 23: 0.3503\n",
      "\n"
     ]
    },
    {
     "name": "stderr",
     "output_type": "stream",
     "text": [
      "Epoch: 26:  25%|███████▋                       | 35.0k/141k [00:06<00:20, 5.10k records/s]"
     ]
    },
    {
     "name": "stdout",
     "output_type": "stream",
     "text": [
      "Average train loss over epoch 24: 0.6618\n",
      "Average test loss over epoch 24: 0.3039\n",
      "\n"
     ]
    },
    {
     "name": "stderr",
     "output_type": "stream",
     "text": [
      "Epoch: 27:  26%|████████▏                      | 37.1k/141k [00:07<00:20, 5.04k records/s]"
     ]
    },
    {
     "name": "stdout",
     "output_type": "stream",
     "text": [
      "Average train loss over epoch 25: 0.6619\n",
      "Average test loss over epoch 25: 0.3176\n",
      "\n"
     ]
    },
    {
     "name": "stderr",
     "output_type": "stream",
     "text": [
      "Epoch: 28:  27%|████████▎                      | 37.8k/141k [00:07<00:20, 5.04k records/s]"
     ]
    },
    {
     "name": "stdout",
     "output_type": "stream",
     "text": [
      "Average train loss over epoch 26: 0.6695\n",
      "Average test loss over epoch 26: 0.3062\n",
      "\n"
     ]
    },
    {
     "name": "stderr",
     "output_type": "stream",
     "text": [
      "Epoch: 29:  28%|████████▋                      | 39.2k/141k [00:07<00:20, 5.04k records/s]"
     ]
    },
    {
     "name": "stdout",
     "output_type": "stream",
     "text": [
      "Average train loss over epoch 27: 0.6652\n",
      "Average test loss over epoch 27: 0.3183\n",
      "\n"
     ]
    },
    {
     "name": "stderr",
     "output_type": "stream",
     "text": [
      "Epoch: 30:  29%|████████▉                      | 40.6k/141k [00:07<00:19, 5.04k records/s]"
     ]
    },
    {
     "name": "stdout",
     "output_type": "stream",
     "text": [
      "Average train loss over epoch 28: 0.6675\n",
      "Average test loss over epoch 28: 0.3053\n",
      "\n"
     ]
    },
    {
     "name": "stderr",
     "output_type": "stream",
     "text": [
      "Epoch: 31:  30%|█████████▎                     | 42.1k/141k [00:08<00:20, 4.86k records/s]"
     ]
    },
    {
     "name": "stdout",
     "output_type": "stream",
     "text": [
      "Average train loss over epoch 29: 0.6636\n",
      "Average test loss over epoch 29: 0.3013\n",
      "\n"
     ]
    },
    {
     "name": "stderr",
     "output_type": "stream",
     "text": [
      "Epoch: 32:  31%|█████████▌                     | 43.4k/141k [00:08<00:20, 4.86k records/s]"
     ]
    },
    {
     "name": "stdout",
     "output_type": "stream",
     "text": [
      "Average train loss over epoch 30: 0.6549\n",
      "Average test loss over epoch 30: 0.3487\n",
      "\n"
     ]
    },
    {
     "name": "stderr",
     "output_type": "stream",
     "text": [
      "Epoch: 33:  32%|█████████▊                     | 44.8k/141k [00:08<00:19, 4.86k records/s]"
     ]
    },
    {
     "name": "stdout",
     "output_type": "stream",
     "text": [
      "Average train loss over epoch 31: 0.6623\n",
      "Average test loss over epoch 31: 0.3011\n",
      "\n"
     ]
    },
    {
     "name": "stderr",
     "output_type": "stream",
     "text": [
      "Epoch: 34:  33%|██████████▎                    | 47.0k/141k [00:09<00:19, 4.80k records/s]"
     ]
    },
    {
     "name": "stdout",
     "output_type": "stream",
     "text": [
      "Average train loss over epoch 32: 0.6611\n",
      "Average test loss over epoch 32: 0.3159\n",
      "\n"
     ]
    },
    {
     "name": "stderr",
     "output_type": "stream",
     "text": [
      "Epoch: 35:  34%|██████████▍                    | 47.6k/141k [00:09<00:19, 4.80k records/s]"
     ]
    },
    {
     "name": "stdout",
     "output_type": "stream",
     "text": [
      "Average train loss over epoch 33: 0.6608\n",
      "Average test loss over epoch 33: 0.3069\n",
      "\n"
     ]
    },
    {
     "name": "stderr",
     "output_type": "stream",
     "text": [
      "Epoch: 36:  35%|██████████▊                    | 49.0k/141k [00:09<00:19, 4.80k records/s]"
     ]
    },
    {
     "name": "stdout",
     "output_type": "stream",
     "text": [
      "Average train loss over epoch 34: 0.6515\n",
      "Average test loss over epoch 34: 0.3840\n",
      "\n"
     ]
    },
    {
     "name": "stderr",
     "output_type": "stream",
     "text": [
      "Epoch: 37:  36%|███████████                    | 50.4k/141k [00:10<00:18, 4.80k records/s]"
     ]
    },
    {
     "name": "stdout",
     "output_type": "stream",
     "text": [
      "Average train loss over epoch 35: 0.6635\n",
      "Average test loss over epoch 35: 0.3253\n",
      "\n"
     ]
    },
    {
     "name": "stderr",
     "output_type": "stream",
     "text": [
      "Epoch: 38:  37%|███████████▍                   | 51.8k/141k [00:10<00:19, 4.67k records/s]"
     ]
    },
    {
     "name": "stdout",
     "output_type": "stream",
     "text": [
      "Average train loss over epoch 36: 0.6711\n",
      "Average test loss over epoch 36: 0.3778\n",
      "\n"
     ]
    },
    {
     "name": "stderr",
     "output_type": "stream",
     "text": [
      "Epoch: 39:  38%|███████████▋                   | 53.2k/141k [00:10<00:18, 4.67k records/s]"
     ]
    },
    {
     "name": "stdout",
     "output_type": "stream",
     "text": [
      "Average train loss over epoch 37: 0.6564\n",
      "Average test loss over epoch 37: 0.3159\n",
      "\n"
     ]
    },
    {
     "name": "stderr",
     "output_type": "stream",
     "text": [
      "Epoch: 40:  39%|████████████                   | 54.6k/141k [00:11<00:18, 4.67k records/s]"
     ]
    },
    {
     "name": "stdout",
     "output_type": "stream",
     "text": [
      "Average train loss over epoch 38: 0.6585\n",
      "Average test loss over epoch 38: 0.2988\n",
      "\n"
     ]
    },
    {
     "name": "stderr",
     "output_type": "stream",
     "text": [
      "Epoch: 41:  40%|████████████▍                  | 56.5k/141k [00:11<00:17, 4.68k records/s]"
     ]
    },
    {
     "name": "stdout",
     "output_type": "stream",
     "text": [
      "Average train loss over epoch 39: 0.6595\n",
      "Average test loss over epoch 39: 0.3214\n",
      "\n"
     ]
    },
    {
     "name": "stderr",
     "output_type": "stream",
     "text": [
      "Epoch: 42:  41%|████████████▋                  | 57.4k/141k [00:11<00:17, 4.68k records/s]"
     ]
    },
    {
     "name": "stdout",
     "output_type": "stream",
     "text": [
      "Average train loss over epoch 40: 0.6528\n",
      "Average test loss over epoch 40: 0.3118\n",
      "\n"
     ]
    },
    {
     "name": "stderr",
     "output_type": "stream",
     "text": [
      "Epoch: 43:  42%|████████████▉                  | 58.8k/141k [00:11<00:17, 4.68k records/s]"
     ]
    },
    {
     "name": "stdout",
     "output_type": "stream",
     "text": [
      "Average train loss over epoch 41: 0.6559\n",
      "Average test loss over epoch 41: 0.3109\n",
      "\n"
     ]
    },
    {
     "name": "stderr",
     "output_type": "stream",
     "text": [
      "Epoch: 44:  43%|█████████████▎                 | 60.2k/141k [00:12<00:17, 4.68k records/s]"
     ]
    },
    {
     "name": "stdout",
     "output_type": "stream",
     "text": [
      "Average train loss over epoch 42: 0.6636\n",
      "Average test loss over epoch 42: 0.3010\n",
      "\n"
     ]
    },
    {
     "name": "stderr",
     "output_type": "stream",
     "text": [
      "Epoch: 45:  44%|█████████████▌                 | 61.6k/141k [00:12<00:16, 4.73k records/s]"
     ]
    },
    {
     "name": "stdout",
     "output_type": "stream",
     "text": [
      "Average train loss over epoch 43: 0.6648\n",
      "Average test loss over epoch 43: 0.2997\n",
      "\n"
     ]
    },
    {
     "name": "stderr",
     "output_type": "stream",
     "text": [
      "Epoch: 46:  45%|█████████████▉                 | 63.0k/141k [00:12<00:16, 4.73k records/s]"
     ]
    },
    {
     "name": "stdout",
     "output_type": "stream",
     "text": [
      "Average train loss over epoch 44: 0.6540\n",
      "Average test loss over epoch 44: 0.3098\n",
      "\n"
     ]
    },
    {
     "name": "stderr",
     "output_type": "stream",
     "text": [
      "Epoch: 47:  46%|██████████████▏                | 64.4k/141k [00:13<00:16, 4.73k records/s]"
     ]
    },
    {
     "name": "stdout",
     "output_type": "stream",
     "text": [
      "Average train loss over epoch 45: 0.6591\n",
      "Average test loss over epoch 45: 0.3243\n",
      "\n"
     ]
    },
    {
     "name": "stderr",
     "output_type": "stream",
     "text": [
      "Epoch: 48:  47%|██████████████▌                | 66.1k/141k [00:13<00:15, 4.73k records/s]"
     ]
    },
    {
     "name": "stdout",
     "output_type": "stream",
     "text": [
      "Average train loss over epoch 46: 0.6588\n",
      "Average test loss over epoch 46: 0.3060\n",
      "\n"
     ]
    },
    {
     "name": "stderr",
     "output_type": "stream",
     "text": [
      "Epoch: 49:  48%|██████████████▊                | 67.2k/141k [00:13<00:15, 4.73k records/s]"
     ]
    },
    {
     "name": "stdout",
     "output_type": "stream",
     "text": [
      "Average train loss over epoch 47: 0.6535\n",
      "Average test loss over epoch 47: 0.3550\n",
      "\n"
     ]
    },
    {
     "name": "stderr",
     "output_type": "stream",
     "text": [
      "Epoch: 50:  49%|███████████████                | 68.6k/141k [00:13<00:15, 4.73k records/s]"
     ]
    },
    {
     "name": "stdout",
     "output_type": "stream",
     "text": [
      "Average train loss over epoch 48: 0.6629\n",
      "Average test loss over epoch 48: 0.3031\n",
      "\n"
     ]
    },
    {
     "name": "stderr",
     "output_type": "stream",
     "text": [
      "Epoch: 51:  50%|███████████████▌               | 70.8k/141k [00:14<00:14, 4.73k records/s]"
     ]
    },
    {
     "name": "stdout",
     "output_type": "stream",
     "text": [
      "Average train loss over epoch 49: 0.6543\n",
      "Average test loss over epoch 49: 0.3134\n",
      "\n"
     ]
    },
    {
     "name": "stderr",
     "output_type": "stream",
     "text": [
      "Epoch: 52:  51%|███████████████▋               | 71.4k/141k [00:14<00:14, 4.73k records/s]"
     ]
    },
    {
     "name": "stdout",
     "output_type": "stream",
     "text": [
      "Average train loss over epoch 50: 0.6582\n",
      "Average test loss over epoch 50: 0.3028\n",
      "\n"
     ]
    },
    {
     "name": "stderr",
     "output_type": "stream",
     "text": [
      "Epoch: 53:  52%|████████████████               | 72.8k/141k [00:14<00:14, 4.73k records/s]"
     ]
    },
    {
     "name": "stdout",
     "output_type": "stream",
     "text": [
      "Average train loss over epoch 51: 0.6495\n",
      "Average test loss over epoch 51: 0.3085\n",
      "\n"
     ]
    },
    {
     "name": "stderr",
     "output_type": "stream",
     "text": [
      "Epoch: 54:  53%|████████████████▎              | 74.2k/141k [00:15<00:14, 4.73k records/s]"
     ]
    },
    {
     "name": "stdout",
     "output_type": "stream",
     "text": [
      "Average train loss over epoch 52: 0.6562\n",
      "Average test loss over epoch 52: 0.3180\n",
      "\n"
     ]
    },
    {
     "name": "stderr",
     "output_type": "stream",
     "text": [
      "Epoch: 55:  54%|████████████████▋              | 75.6k/141k [00:15<00:13, 4.71k records/s]"
     ]
    },
    {
     "name": "stdout",
     "output_type": "stream",
     "text": [
      "Average train loss over epoch 53: 0.6515\n",
      "Average test loss over epoch 53: 0.3471\n",
      "\n"
     ]
    },
    {
     "name": "stderr",
     "output_type": "stream",
     "text": [
      "Epoch: 56:  55%|████████████████▉              | 77.0k/141k [00:15<00:13, 4.71k records/s]"
     ]
    },
    {
     "name": "stdout",
     "output_type": "stream",
     "text": [
      "Average train loss over epoch 54: 0.6570\n",
      "Average test loss over epoch 54: 0.2981\n",
      "\n"
     ]
    },
    {
     "name": "stderr",
     "output_type": "stream",
     "text": [
      "Epoch: 57:  56%|█████████████████▎             | 78.4k/141k [00:16<00:13, 4.71k records/s]"
     ]
    },
    {
     "name": "stdout",
     "output_type": "stream",
     "text": [
      "Average train loss over epoch 55: 0.6575\n",
      "Average test loss over epoch 55: 0.3282\n",
      "\n"
     ]
    },
    {
     "name": "stderr",
     "output_type": "stream",
     "text": [
      "Epoch: 58:  57%|█████████████████▋             | 80.4k/141k [00:16<00:12, 4.73k records/s]"
     ]
    },
    {
     "name": "stdout",
     "output_type": "stream",
     "text": [
      "Average train loss over epoch 56: 0.6549\n",
      "Average test loss over epoch 56: 0.3056\n",
      "\n"
     ]
    },
    {
     "name": "stderr",
     "output_type": "stream",
     "text": [
      "Epoch: 59:  58%|█████████████████▉             | 81.2k/141k [00:16<00:12, 4.73k records/s]"
     ]
    },
    {
     "name": "stdout",
     "output_type": "stream",
     "text": [
      "Average train loss over epoch 57: 0.6527\n",
      "Average test loss over epoch 57: 0.3302\n",
      "\n"
     ]
    },
    {
     "name": "stderr",
     "output_type": "stream",
     "text": [
      "Epoch: 60:  59%|██████████████████▏            | 82.6k/141k [00:16<00:12, 4.73k records/s]"
     ]
    },
    {
     "name": "stdout",
     "output_type": "stream",
     "text": [
      "Average train loss over epoch 58: 0.6511\n",
      "Average test loss over epoch 58: 0.3178\n",
      "\n"
     ]
    },
    {
     "name": "stderr",
     "output_type": "stream",
     "text": [
      "Epoch: 61:  60%|██████████████████▌            | 84.0k/141k [00:17<00:11, 4.73k records/s]"
     ]
    },
    {
     "name": "stdout",
     "output_type": "stream",
     "text": [
      "Average train loss over epoch 59: 0.6496\n",
      "Average test loss over epoch 59: 0.3439\n",
      "\n"
     ]
    },
    {
     "name": "stderr",
     "output_type": "stream",
     "text": [
      "Epoch: 62:  61%|██████████████████▊            | 85.4k/141k [00:17<00:11, 4.66k records/s]"
     ]
    },
    {
     "name": "stdout",
     "output_type": "stream",
     "text": [
      "Average train loss over epoch 60: 0.6545\n",
      "Average test loss over epoch 60: 0.2972\n",
      "\n"
     ]
    },
    {
     "name": "stderr",
     "output_type": "stream",
     "text": [
      "Epoch: 63:  62%|███████████████████            | 86.8k/141k [00:17<00:11, 4.66k records/s]"
     ]
    },
    {
     "name": "stdout",
     "output_type": "stream",
     "text": [
      "Average train loss over epoch 61: 0.6569\n",
      "Average test loss over epoch 61: 0.2999\n",
      "\n"
     ]
    },
    {
     "name": "stderr",
     "output_type": "stream",
     "text": [
      "Epoch: 64:  63%|███████████████████▍           | 88.2k/141k [00:18<00:11, 4.66k records/s]"
     ]
    },
    {
     "name": "stdout",
     "output_type": "stream",
     "text": [
      "Average train loss over epoch 62: 0.6576\n",
      "Average test loss over epoch 62: 0.3050\n",
      "\n"
     ]
    },
    {
     "name": "stderr",
     "output_type": "stream",
     "text": [
      "Epoch: 65:  64%|███████████████████▊           | 89.8k/141k [00:18<00:11, 4.62k records/s]"
     ]
    },
    {
     "name": "stdout",
     "output_type": "stream",
     "text": [
      "Average train loss over epoch 63: 0.6567\n",
      "Average test loss over epoch 63: 0.3070\n",
      "\n"
     ]
    },
    {
     "name": "stderr",
     "output_type": "stream",
     "text": [
      "Epoch: 66:  65%|████████████████████           | 91.0k/141k [00:18<00:10, 4.62k records/s]"
     ]
    },
    {
     "name": "stdout",
     "output_type": "stream",
     "text": [
      "Average train loss over epoch 64: 0.6565\n",
      "Average test loss over epoch 64: 0.3069\n",
      "\n"
     ]
    },
    {
     "name": "stderr",
     "output_type": "stream",
     "text": [
      "Epoch: 67:  66%|████████████████████▎          | 92.4k/141k [00:19<00:10, 4.62k records/s]"
     ]
    },
    {
     "name": "stdout",
     "output_type": "stream",
     "text": [
      "Average train loss over epoch 65: 0.6569\n",
      "Average test loss over epoch 65: 0.3000\n",
      "\n"
     ]
    },
    {
     "name": "stderr",
     "output_type": "stream",
     "text": [
      "Epoch: 68:  67%|████████████████████▊          | 94.4k/141k [00:19<00:10, 4.58k records/s]"
     ]
    },
    {
     "name": "stdout",
     "output_type": "stream",
     "text": [
      "Average train loss over epoch 66: 0.6528\n",
      "Average test loss over epoch 66: 0.3195\n",
      "\n"
     ]
    },
    {
     "name": "stderr",
     "output_type": "stream",
     "text": [
      "Epoch: 69:  68%|████████████████████▉          | 95.2k/141k [00:19<00:09, 4.58k records/s]"
     ]
    },
    {
     "name": "stdout",
     "output_type": "stream",
     "text": [
      "Average train loss over epoch 67: 0.6544\n",
      "Average test loss over epoch 67: 0.3082\n",
      "\n"
     ]
    },
    {
     "name": "stderr",
     "output_type": "stream",
     "text": [
      "Epoch: 70:  69%|█████████████████████▎         | 96.6k/141k [00:20<00:09, 4.58k records/s]"
     ]
    },
    {
     "name": "stdout",
     "output_type": "stream",
     "text": [
      "Average train loss over epoch 68: 0.6557\n",
      "Average test loss over epoch 68: 0.3227\n",
      "\n"
     ]
    },
    {
     "name": "stderr",
     "output_type": "stream",
     "text": [
      "Epoch: 71:  70%|█████████████████████▌         | 98.0k/141k [00:20<00:09, 4.58k records/s]"
     ]
    },
    {
     "name": "stdout",
     "output_type": "stream",
     "text": [
      "Average train loss over epoch 69: 0.6527\n",
      "Average test loss over epoch 69: 0.3287\n",
      "\n"
     ]
    },
    {
     "name": "stderr",
     "output_type": "stream",
     "text": [
      "Epoch: 72:  71%|█████████████████████▉         | 99.4k/141k [00:20<00:09, 4.59k records/s]"
     ]
    },
    {
     "name": "stdout",
     "output_type": "stream",
     "text": [
      "Average train loss over epoch 70: 0.6509\n",
      "Average test loss over epoch 70: 0.3381\n",
      "\n"
     ]
    },
    {
     "name": "stderr",
     "output_type": "stream",
     "text": [
      "Epoch: 73:  72%|██████████████████████▉         | 101k/141k [00:21<00:08, 4.59k records/s]"
     ]
    },
    {
     "name": "stdout",
     "output_type": "stream",
     "text": [
      "Average train loss over epoch 71: 0.6524\n",
      "Average test loss over epoch 71: 0.3317\n",
      "\n"
     ]
    },
    {
     "name": "stderr",
     "output_type": "stream",
     "text": [
      "Epoch: 74:  73%|███████████████████████▏        | 102k/141k [00:21<00:08, 4.59k records/s]"
     ]
    },
    {
     "name": "stdout",
     "output_type": "stream",
     "text": [
      "Average train loss over epoch 72: 0.6495\n",
      "Average test loss over epoch 72: 0.3061\n",
      "\n"
     ]
    },
    {
     "name": "stderr",
     "output_type": "stream",
     "text": [
      "Epoch: 75:  74%|███████████████████████▌        | 104k/141k [00:21<00:08, 4.58k records/s]"
     ]
    },
    {
     "name": "stdout",
     "output_type": "stream",
     "text": [
      "Average train loss over epoch 73: 0.6518\n",
      "Average test loss over epoch 73: 0.3378\n",
      "\n"
     ]
    },
    {
     "name": "stderr",
     "output_type": "stream",
     "text": [
      "Epoch: 76:  75%|███████████████████████▉        | 105k/141k [00:21<00:07, 4.58k records/s]"
     ]
    },
    {
     "name": "stdout",
     "output_type": "stream",
     "text": [
      "Average train loss over epoch 74: 0.6529\n",
      "Average test loss over epoch 74: 0.3002\n",
      "\n"
     ]
    },
    {
     "name": "stderr",
     "output_type": "stream",
     "text": [
      "Epoch: 77:  76%|████████████████████████▏       | 106k/141k [00:22<00:07, 4.58k records/s]"
     ]
    },
    {
     "name": "stdout",
     "output_type": "stream",
     "text": [
      "Average train loss over epoch 75: 0.6551\n",
      "Average test loss over epoch 75: 0.3343\n",
      "\n"
     ]
    },
    {
     "name": "stderr",
     "output_type": "stream",
     "text": [
      "Epoch: 78:  77%|████████████████████████▋       | 108k/141k [00:22<00:07, 4.61k records/s]"
     ]
    },
    {
     "name": "stdout",
     "output_type": "stream",
     "text": [
      "Average train loss over epoch 76: 0.6554\n",
      "Average test loss over epoch 76: 0.3231\n",
      "\n"
     ]
    },
    {
     "name": "stderr",
     "output_type": "stream",
     "text": [
      "Epoch: 79:  78%|████████████████████████▊       | 109k/141k [00:22<00:06, 4.61k records/s]"
     ]
    },
    {
     "name": "stdout",
     "output_type": "stream",
     "text": [
      "Average train loss over epoch 77: 0.6523\n",
      "Average test loss over epoch 77: 0.3239\n",
      "\n"
     ]
    },
    {
     "name": "stderr",
     "output_type": "stream",
     "text": [
      "Epoch: 80:  79%|█████████████████████████▏      | 111k/141k [00:23<00:06, 4.61k records/s]"
     ]
    },
    {
     "name": "stdout",
     "output_type": "stream",
     "text": [
      "Average train loss over epoch 78: 0.6554\n",
      "Average test loss over epoch 78: 0.3334\n",
      "\n"
     ]
    },
    {
     "name": "stderr",
     "output_type": "stream",
     "text": [
      "Epoch: 81:  80%|█████████████████████████▍      | 112k/141k [00:23<00:06, 4.61k records/s]"
     ]
    },
    {
     "name": "stdout",
     "output_type": "stream",
     "text": [
      "Average train loss over epoch 79: 0.6514\n",
      "Average test loss over epoch 79: 0.3009\n",
      "\n"
     ]
    },
    {
     "name": "stderr",
     "output_type": "stream",
     "text": [
      "Epoch: 82:  81%|█████████████████████████▊      | 113k/141k [00:23<00:05, 4.67k records/s]"
     ]
    },
    {
     "name": "stdout",
     "output_type": "stream",
     "text": [
      "Average train loss over epoch 80: 0.6535\n",
      "Average test loss over epoch 80: 0.3125\n",
      "\n"
     ]
    },
    {
     "name": "stderr",
     "output_type": "stream",
     "text": [
      "Epoch: 83:  82%|██████████████████████████      | 115k/141k [00:23<00:05, 4.67k records/s]"
     ]
    },
    {
     "name": "stdout",
     "output_type": "stream",
     "text": [
      "Average train loss over epoch 81: 0.6500\n",
      "Average test loss over epoch 81: 0.2995\n",
      "\n"
     ]
    },
    {
     "name": "stderr",
     "output_type": "stream",
     "text": [
      "Epoch: 84:  83%|██████████████████████████▍     | 116k/141k [00:24<00:05, 4.67k records/s]"
     ]
    },
    {
     "name": "stdout",
     "output_type": "stream",
     "text": [
      "Average train loss over epoch 82: 0.6561\n",
      "Average test loss over epoch 82: 0.3235\n",
      "\n"
     ]
    },
    {
     "name": "stderr",
     "output_type": "stream",
     "text": [
      "Epoch: 85:  84%|██████████████████████████▊     | 118k/141k [00:24<00:04, 4.68k records/s]"
     ]
    },
    {
     "name": "stdout",
     "output_type": "stream",
     "text": [
      "Average train loss over epoch 83: 0.6548\n",
      "Average test loss over epoch 83: 0.3213\n",
      "\n"
     ]
    },
    {
     "name": "stderr",
     "output_type": "stream",
     "text": [
      "Epoch: 86:  85%|███████████████████████████     | 119k/141k [00:24<00:04, 4.68k records/s]"
     ]
    },
    {
     "name": "stdout",
     "output_type": "stream",
     "text": [
      "Average train loss over epoch 84: 0.6520\n",
      "Average test loss over epoch 84: 0.3345\n",
      "\n"
     ]
    },
    {
     "name": "stderr",
     "output_type": "stream",
     "text": [
      "Epoch: 87:  86%|███████████████████████████▍    | 120k/141k [00:25<00:04, 4.68k records/s]"
     ]
    },
    {
     "name": "stdout",
     "output_type": "stream",
     "text": [
      "Average train loss over epoch 85: 0.6531\n",
      "Average test loss over epoch 85: 0.3123\n",
      "\n"
     ]
    },
    {
     "name": "stderr",
     "output_type": "stream",
     "text": [
      "Epoch: 88:  87%|███████████████████████████▉    | 123k/141k [00:25<00:03, 4.71k records/s]"
     ]
    },
    {
     "name": "stdout",
     "output_type": "stream",
     "text": [
      "Average train loss over epoch 86: 0.6509\n",
      "Average test loss over epoch 86: 0.3061\n",
      "\n"
     ]
    },
    {
     "name": "stderr",
     "output_type": "stream",
     "text": [
      "Epoch: 89:  88%|████████████████████████████    | 123k/141k [00:25<00:03, 4.71k records/s]"
     ]
    },
    {
     "name": "stdout",
     "output_type": "stream",
     "text": [
      "Average train loss over epoch 87: 0.6513\n",
      "Average test loss over epoch 87: 0.3112\n",
      "\n"
     ]
    },
    {
     "name": "stderr",
     "output_type": "stream",
     "text": [
      "Epoch: 90:  89%|████████████████████████████▎   | 125k/141k [00:26<00:03, 4.71k records/s]"
     ]
    },
    {
     "name": "stdout",
     "output_type": "stream",
     "text": [
      "Average train loss over epoch 88: 0.6504\n",
      "Average test loss over epoch 88: 0.3235\n",
      "\n"
     ]
    },
    {
     "name": "stderr",
     "output_type": "stream",
     "text": [
      "Epoch: 91:  90%|████████████████████████████▋   | 126k/141k [00:26<00:03, 4.71k records/s]"
     ]
    },
    {
     "name": "stdout",
     "output_type": "stream",
     "text": [
      "Average train loss over epoch 89: 0.6547\n",
      "Average test loss over epoch 89: 0.3325\n",
      "\n"
     ]
    },
    {
     "name": "stderr",
     "output_type": "stream",
     "text": [
      "Epoch: 92:  91%|████████████████████████████▉   | 127k/141k [00:26<00:02, 4.71k records/s]"
     ]
    },
    {
     "name": "stdout",
     "output_type": "stream",
     "text": [
      "Average train loss over epoch 90: 0.6571\n",
      "Average test loss over epoch 90: 0.3197\n",
      "\n"
     ]
    },
    {
     "name": "stderr",
     "output_type": "stream",
     "text": [
      "Epoch: 93:  92%|█████████████████████████████▎  | 129k/141k [00:26<00:02, 4.71k records/s]"
     ]
    },
    {
     "name": "stdout",
     "output_type": "stream",
     "text": [
      "Average train loss over epoch 91: 0.6510\n",
      "Average test loss over epoch 91: 0.3153\n",
      "\n"
     ]
    },
    {
     "name": "stderr",
     "output_type": "stream",
     "text": [
      "Epoch: 94:  93%|█████████████████████████████▌  | 130k/141k [00:27<00:02, 4.71k records/s]"
     ]
    },
    {
     "name": "stdout",
     "output_type": "stream",
     "text": [
      "Average train loss over epoch 92: 0.6553\n",
      "Average test loss over epoch 92: 0.3207\n",
      "\n"
     ]
    },
    {
     "name": "stderr",
     "output_type": "stream",
     "text": [
      "Epoch: 95:  94%|██████████████████████████████  | 132k/141k [00:27<00:01, 4.76k records/s]"
     ]
    },
    {
     "name": "stdout",
     "output_type": "stream",
     "text": [
      "Average train loss over epoch 93: 0.6509\n",
      "Average test loss over epoch 93: 0.3173\n",
      "\n"
     ]
    },
    {
     "name": "stderr",
     "output_type": "stream",
     "text": [
      "Epoch: 96:  95%|██████████████████████████████▏ | 133k/141k [00:27<00:01, 4.76k records/s]"
     ]
    },
    {
     "name": "stdout",
     "output_type": "stream",
     "text": [
      "Average train loss over epoch 94: 0.6499\n",
      "Average test loss over epoch 94: 0.3294\n",
      "\n"
     ]
    },
    {
     "name": "stderr",
     "output_type": "stream",
     "text": [
      "Epoch: 97:  96%|██████████████████████████████▌ | 134k/141k [00:28<00:01, 4.76k records/s]"
     ]
    },
    {
     "name": "stdout",
     "output_type": "stream",
     "text": [
      "Average train loss over epoch 95: 0.6471\n",
      "Average test loss over epoch 95: 0.3154\n",
      "\n"
     ]
    },
    {
     "name": "stderr",
     "output_type": "stream",
     "text": [
      "Epoch: 98:  97%|██████████████████████████████▉ | 136k/141k [00:28<00:01, 4.76k records/s]"
     ]
    },
    {
     "name": "stdout",
     "output_type": "stream",
     "text": [
      "Average train loss over epoch 96: 0.6519\n",
      "Average test loss over epoch 96: 0.3172\n",
      "\n"
     ]
    },
    {
     "name": "stderr",
     "output_type": "stream",
     "text": [
      "Epoch: 99:  98%|███████████████████████████████▏| 137k/141k [00:28<00:00, 4.75k records/s]"
     ]
    },
    {
     "name": "stdout",
     "output_type": "stream",
     "text": [
      "Average train loss over epoch 97: 0.6513\n",
      "Average test loss over epoch 97: 0.3197\n",
      "\n"
     ]
    },
    {
     "name": "stderr",
     "output_type": "stream",
     "text": [
      "Epoch: 100:  99%|██████████████████████████████▌| 139k/141k [00:28<00:00, 4.75k records/s]"
     ]
    },
    {
     "name": "stdout",
     "output_type": "stream",
     "text": [
      "Average train loss over epoch 98: 0.6494\n",
      "Average test loss over epoch 98: 0.3148\n",
      "\n"
     ]
    },
    {
     "name": "stderr",
     "output_type": "stream",
     "text": [
      "Epoch: 100: 100%|██████████████████████████████▊| 140k/141k [00:29<00:00, 4.77k records/s]"
     ]
    },
    {
     "name": "stdout",
     "output_type": "stream",
     "text": [
      "Average train loss over epoch 99: 0.6534\n",
      "Average test loss over epoch 99: 0.3126\n",
      "\n",
      "Best train loss: 0.65\n",
      "Best test loss: 0.30\n",
      "Train time: 29.28 seconds\n"
     ]
    },
    {
     "name": "stderr",
     "output_type": "stream",
     "text": [
      "\n"
     ]
    }
   ],
   "source": [
    "trained_model, loss = train(x_train, y_train, \n",
    "                            x_test, y_test,\n",
    "                            model=model,\n",
    "                            batch_size=8,\n",
    "                            epochs=100, learning_rate=0.0001)"
   ]
  },
  {
   "cell_type": "code",
   "execution_count": 18,
   "id": "022c8fcd-07aa-404a-b321-14e28ddf78e8",
   "metadata": {},
   "outputs": [
    {
     "data": {
      "image/png": "[encoded data removed]",
      "text/plain": [
       "<Figure size 432x288 with 1 Axes>"
      ]
     },
     "metadata": {
      "needs_background": "dark"
     },
     "output_type": "display_data"
    }
   ],
   "source": [
    "plt.plot(loss[0], label=\"Train Loss\")\n",
    "plt.plot(loss[1], label=\"Test Loss\")\n",
    "\n",
    "plt.title(\"Training\")\n",
    "plt.xlabel(\"Epoch\")\n",
    "plt.ylabel(\"Loss\")\n",
    "\n",
    "plt.legend();"
   ]
  },
  {
   "cell_type": "code",
   "execution_count": 17,
   "id": "227025dd-8547-4c90-9135-0f133b9066a1",
   "metadata": {},
   "outputs": [
    {
     "data": {
      "text/plain": [
       "(tensor([0.6762, 0.6775, 0.6768, 0.6697, 0.6738, 0.6704, 0.6824, 0.6715, 0.6741,\n",
       "         0.6799, 0.6598, 0.6661, 0.6679, 0.6733, 0.6660, 0.6699, 0.6877, 0.6572,\n",
       "         0.6724, 0.6645, 0.6549, 0.6617, 0.6683, 0.6785, 0.6618, 0.6619, 0.6695,\n",
       "         0.6652, 0.6675, 0.6636, 0.6549, 0.6623, 0.6611, 0.6608, 0.6515, 0.6635,\n",
       "         0.6711, 0.6564, 0.6585, 0.6595, 0.6528, 0.6559, 0.6636, 0.6648, 0.6540,\n",
       "         0.6591, 0.6588, 0.6535, 0.6629, 0.6543, 0.6582, 0.6495, 0.6562, 0.6515,\n",
       "         0.6570, 0.6575, 0.6549, 0.6527, 0.6511, 0.6496, 0.6545, 0.6569, 0.6576,\n",
       "         0.6567, 0.6565, 0.6569, 0.6528, 0.6544, 0.6557, 0.6527, 0.6509, 0.6524,\n",
       "         0.6495, 0.6518, 0.6529, 0.6551, 0.6554, 0.6523, 0.6554, 0.6514, 0.6535,\n",
       "         0.6500, 0.6561, 0.6548, 0.6520, 0.6531, 0.6509, 0.6513, 0.6504, 0.6547,\n",
       "         0.6571, 0.6510, 0.6553, 0.6509, 0.6499, 0.6471, 0.6519, 0.6513, 0.6494,\n",
       "         0.6534]),\n",
       " tensor([0.3030, 0.3575, 0.3180, 0.2987, 0.3708, 0.3095, 0.3002, 0.3080, 0.3698,\n",
       "         0.3469, 0.3001, 0.3090, 0.3006, 0.2988, 0.3054, 0.3557, 0.3407, 0.3543,\n",
       "         0.3082, 0.2997, 0.3005, 0.3564, 0.3010, 0.3503, 0.3039, 0.3176, 0.3062,\n",
       "         0.3183, 0.3053, 0.3013, 0.3487, 0.3011, 0.3159, 0.3069, 0.3840, 0.3253,\n",
       "         0.3778, 0.3159, 0.2988, 0.3214, 0.3118, 0.3109, 0.3010, 0.2997, 0.3098,\n",
       "         0.3243, 0.3060, 0.3550, 0.3031, 0.3134, 0.3028, 0.3085, 0.3180, 0.3471,\n",
       "         0.2981, 0.3282, 0.3056, 0.3302, 0.3178, 0.3439, 0.2972, 0.2999, 0.3050,\n",
       "         0.3070, 0.3069, 0.3000, 0.3195, 0.3082, 0.3227, 0.3287, 0.3381, 0.3317,\n",
       "         0.3061, 0.3378, 0.3002, 0.3343, 0.3231, 0.3239, 0.3334, 0.3009, 0.3125,\n",
       "         0.2995, 0.3235, 0.3213, 0.3345, 0.3123, 0.3061, 0.3112, 0.3235, 0.3325,\n",
       "         0.3197, 0.3153, 0.3207, 0.3173, 0.3294, 0.3154, 0.3172, 0.3197, 0.3148,\n",
       "         0.3126]))"
      ]
     },
     "execution_count": 17,
     "metadata": {},
     "output_type": "execute_result"
    }
   ],
   "source": [
    "loss"
   ]
  },
  {
   "cell_type": "markdown",
   "id": "70f715c7-e958-4235-887d-df27ab002d7e",
   "metadata": {
    "tags": []
   },
   "source": [
    "### Plots"
   ]
  },
  {
   "cell_type": "code",
   "execution_count": 19,
   "id": "6126cf40-0150-403b-bde0-7473599be75a",
   "metadata": {},
   "outputs": [],
   "source": [
    "def plot_stock_prices(data_train, data_test, title='train'):\n",
    "    \n",
    "    data_train = data_train.sort_values('initial_stock_price')\n",
    "    data_test = data_test.sort_values('initial_stock_price')\n",
    "    fig, axs = plt.subplots(1, 2, figsize=(10, 4), gridspec_kw={'width_ratios': [1, 1]})\n",
    "    axs[0].scatter(data_train['initial_stock_price'], data_train['option_price'], s=4, c='b', \n",
    "                label='Monte-Carlo')\n",
    "    axs[0].scatter(data_train['initial_stock_price'], data_train['predicted_option_price'], s=4, c='r',\n",
    "                label='Model')\n",
    "    axs[0].set_title('Train')\n",
    "    axs[1].scatter(data_test['initial_stock_price'], data_test['option_price'], s=4, c='b', \n",
    "                label='Monte-Carlo')\n",
    "    axs[1].scatter(data_test['initial_stock_price'], data_test['predicted_option_price'], s=4, c='r',\n",
    "                label='Model')\n",
    "    axs[1].set_title('Test')\n",
    "    for ax in axs.flat:\n",
    "        ax.set(xlabel='initial stock price', ylabel='option price')\n",
    "        ax.label_outer()\n",
    "    plt.savefig(title+'.png', facecolor='white', dpi=150)\n",
    "\n",
    "    \n",
    "def plot_loss(loss, title='train'):\n",
    "    \n",
    "    train_loss, test_loss = loss[0], loss[1]\n",
    "    epochs = [i for i in range(len(train_loss))]\n",
    "    fig, axs = plt.subplots(1, 2, figsize=(10, 4), gridspec_kw={'width_ratios': [1, 1]})\n",
    "    axs[0].plot(epochs, train_loss, c='b')\n",
    "    axs[0].set_title('Train')\n",
    "    axs[1].plot(epochs, test_loss, c='b')\n",
    "    axs[1].set_title('Test')\n",
    "    for ax in axs.flat:\n",
    "        ax.set(xlabel='epoch', ylabel='loss')\n",
    "        ax.label_outer()\n",
    "    plt.savefig(title+'.png', facecolor='white', dpi=150)"
   ]
  },
  {
   "cell_type": "code",
   "execution_count": 22,
   "id": "c58cd8a2",
   "metadata": {},
   "outputs": [],
   "source": [
    "# plot_loss(loss, 'hybrid_nn_dqc_loss')"
   ]
  },
  {
   "cell_type": "code",
   "execution_count": 23,
   "id": "89bed7fb",
   "metadata": {},
   "outputs": [],
   "source": [
    "# plot_stock_prices(data_train, data_test, title='hybrid_nn_dqc')"
   ]
  },
  {
   "cell_type": "code",
   "execution_count": null,
   "id": "55c4cdbf",
   "metadata": {},
   "outputs": [],
   "source": []
  },
  {
   "cell_type": "code",
   "execution_count": null,
   "id": "e5888132",
   "metadata": {},
   "outputs": [],
   "source": []
  }
 ],
 "metadata": {
  "kernelspec": {
   "display_name": "Python 3 (ipykernel)",
   "language": "python",
   "name": "python3"
  },
  "language_info": {
   "codemirror_mode": {
    "name": "ipython",
    "version": 3
   },
   "file_extension": ".py",
   "mimetype": "text/x-python",
   "name": "python",
   "nbconvert_exporter": "python",
   "pygments_lexer": "ipython3",
   "version": "3.8.10"
  }
 },
 "nbformat": 4,
 "nbformat_minor": 5
}
