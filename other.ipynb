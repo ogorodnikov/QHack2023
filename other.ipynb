{
 "cells": [
  {
   "cell_type": "markdown",
   "id": "1a664a19-9a33-45d5-bdd3-f806ec61cb6e",
   "metadata": {
    "tags": []
   },
   "source": [
    "### AWS Braket Test"
   ]
  },
  {
   "cell_type": "code",
   "execution_count": 1,
   "id": "29d5d322-3a53-4d5b-a3c8-00b9885e8f97",
   "metadata": {},
   "outputs": [],
   "source": [
    "from braket.circuits import Circuit\n",
    "from braket.devices import LocalSimulator\n",
    "from braket.aws import AwsDevice\n",
    "\n",
    "from braket.tracking import Tracker"
   ]
  },
  {
   "cell_type": "markdown",
   "id": "40b39024-6b98-4321-8f48-cf2e962a9469",
   "metadata": {},
   "source": [
    "#### AWS Devices"
   ]
  },
  {
   "cell_type": "code",
   "execution_count": 7,
   "id": "4d5c3041-aec7-4c85-984d-13141dd553cb",
   "metadata": {},
   "outputs": [
    {
     "data": {
      "text/plain": [
       "Counter({'00': 51, '11': 49})"
      ]
     },
     "execution_count": 7,
     "metadata": {},
     "output_type": "execute_result"
    }
   ],
   "source": [
    "# 1) Local Simulator\n",
    "\n",
    "local_simulator = LocalSimulator()\n",
    "\n",
    "bell = Circuit().h(0).cnot(0, 1)\n",
    "\n",
    "counts = local_simulator.run(bell, shots=100).result().measurement_counts\n",
    "\n",
    "counts"
   ]
  },
  {
   "cell_type": "code",
   "execution_count": 4,
   "id": "d2592f11-82f7-4a30-9afe-610f34903d1c",
   "metadata": {},
   "outputs": [
    {
     "data": {
      "text/plain": [
       "Counter({'11': 56, '00': 44})"
      ]
     },
     "execution_count": 4,
     "metadata": {},
     "output_type": "execute_result"
    }
   ],
   "source": [
    "# SV1\n",
    "\n",
    "cost_tracker = Tracker().start()\n",
    "\n",
    "sv1_device = AwsDevice('arn:aws:braket:::device/quantum-simulator/amazon/sv1')  \n",
    "\n",
    "counts = sv1_device.run(bell, shots=100).result().measurement_counts\n",
    "\n",
    "counts"
   ]
  },
  {
   "cell_type": "code",
   "execution_count": 5,
   "id": "6e9df0b8-c55f-46fc-a2ac-f530790d1e22",
   "metadata": {},
   "outputs": [
    {
     "data": {
      "text/plain": [
       "{'arn:aws:braket:::device/quantum-simulator/amazon/sv1': {'shots': 100,\n",
       "  'tasks': {'COMPLETED': 1},\n",
       "  'execution_duration': datetime.timedelta(microseconds=3000),\n",
       "  'billed_execution_duration': datetime.timedelta(seconds=3)}}"
      ]
     },
     "execution_count": 5,
     "metadata": {},
     "output_type": "execute_result"
    }
   ],
   "source": [
    "cost_tracker.quantum_tasks_statistics()"
   ]
  },
  {
   "cell_type": "code",
   "execution_count": null,
   "id": "3eed09cc-034f-4702-b052-5d95a517630b",
   "metadata": {},
   "outputs": [],
   "source": []
  },
  {
   "cell_type": "code",
   "execution_count": 6,
   "id": "9a57e5e0-05a1-4255-aed9-52073930ce5d",
   "metadata": {},
   "outputs": [],
   "source": [
    "# 3) Batch SV1\n",
    "\n",
    "circuits = [bell for _ in range(5)]\n",
    "\n",
    "# batch_results = sv1_device.run_batch(task_specifications=circuits, shots=100)"
   ]
  },
  {
   "cell_type": "code",
   "execution_count": null,
   "id": "0d1e9e92-7e1a-4377-9634-35c4e70e7cc7",
   "metadata": {},
   "outputs": [],
   "source": [
    "print(batch.results()[0].measurement_counts)  # The result of the first task in the batch"
   ]
  },
  {
   "cell_type": "code",
   "execution_count": null,
   "id": "cee4e2ad-729a-420d-ae4d-7686aed50ea0",
   "metadata": {},
   "outputs": [],
   "source": []
  },
  {
   "cell_type": "markdown",
   "id": "9bb3e51e-d99d-4d5b-982f-7edd36b32ce0",
   "metadata": {},
   "source": [
    "#### PennyLane"
   ]
  },
  {
   "cell_type": "code",
   "execution_count": 4,
   "id": "e20d97ea-cf23-4a6b-a23d-d83eedc40e44",
   "metadata": {},
   "outputs": [],
   "source": [
    "def filter_circuit(pixel_values, random_layer_parameters):\n",
    "       \n",
    "    qubits = list(range(len(pixel_values)))\n",
    "\n",
    "    for qubit, pixel_value in enumerate(pixel_values):     \n",
    "\n",
    "        theta = jnp.pi * pixel_value        \n",
    "        qml.RY(theta, wires=qubit)        \n",
    "    \n",
    "    RandomLayers(random_layer_parameters, wires=qubits)\n",
    "\n",
    "    measurement_result = [qml.expval(qml.PauliZ(qubit)) for qubit in qubits]\n",
    "    \n",
    "    return measurement_result"
   ]
  },
  {
   "cell_type": "code",
   "execution_count": null,
   "id": "8de7170c-022a-444b-92b8-e1c026297e2c",
   "metadata": {},
   "outputs": [],
   "source": []
  },
  {
   "cell_type": "code",
   "execution_count": 92,
   "id": "e00ed573-60ea-4e3d-868e-b52f2565033b",
   "metadata": {},
   "outputs": [
    {
     "data": {
      "text/plain": [
       "tensor([0.11483682, 0.61062004, 0.28863055, 0.58123822, 0.15436272,\n",
       "        0.4811401 , 0.53258943, 0.05182354, 0.33660428, 0.13441468,\n",
       "        0.06337497, 0.98996023, 0.32235384, 0.80987445, 0.25464065,\n",
       "        0.68150272, 0.76022786, 0.59563874, 0.47157619, 0.41184091,\n",
       "        0.34886827, 0.92952914, 0.83061941, 0.96502691, 0.12429722,\n",
       "        0.73086748, 0.93834046], requires_grad=False)"
      ]
     },
     "execution_count": 92,
     "metadata": {},
     "output_type": "execute_result"
    }
   ],
   "source": [
    "QUBITS_COUNT = 27\n",
    "LAYERS_COUNT = 1\n",
    "\n",
    "pixel_values = np.random.random(size=(QUBITS_COUNT,), requires_grad=False)\n",
    "\n",
    "random_layer_parameters = np.random.random(size=(LAYERS_COUNT, QUBITS_COUNT), requires_grad=True)\n",
    "\n",
    "qubits = list(range(len(pixel_values)))\n",
    "\n",
    "pixel_values"
   ]
  },
  {
   "cell_type": "code",
   "execution_count": 93,
   "id": "4c141db6-853d-4bf0-b41d-49886b5b4ed3",
   "metadata": {},
   "outputs": [
    {
     "data": {
      "text/plain": [
       "tensor([[0.18123307, 0.06649627, 0.74112065, 0.57447311, 0.84182878,\n",
       "         0.13977238, 0.79526731, 0.20162732, 0.16365594, 0.1642658 ,\n",
       "         0.81457472, 0.66519722, 0.52306542, 0.35883048, 0.87720054,\n",
       "         0.39244511, 0.81659944, 0.43913491, 0.37694443, 0.46267979,\n",
       "         0.30137787, 0.74760938, 0.50272039, 0.2322127 , 0.89957457,\n",
       "         0.38389122, 0.54355286]], requires_grad=True)"
      ]
     },
     "execution_count": 93,
     "metadata": {},
     "output_type": "execute_result"
    }
   ],
   "source": [
    "random_layer_parameters"
   ]
  },
  {
   "cell_type": "code",
   "execution_count": 94,
   "id": "71e45d36-11dd-4cbd-9b7a-80b623a328d2",
   "metadata": {},
   "outputs": [
    {
     "data": {
      "text/plain": [
       "[expval(PauliZ(wires=[0])),\n",
       " expval(PauliZ(wires=[1])),\n",
       " expval(PauliZ(wires=[2])),\n",
       " expval(PauliZ(wires=[3])),\n",
       " expval(PauliZ(wires=[4])),\n",
       " expval(PauliZ(wires=[5])),\n",
       " expval(PauliZ(wires=[6])),\n",
       " expval(PauliZ(wires=[7])),\n",
       " expval(PauliZ(wires=[8])),\n",
       " expval(PauliZ(wires=[9])),\n",
       " expval(PauliZ(wires=[10])),\n",
       " expval(PauliZ(wires=[11])),\n",
       " expval(PauliZ(wires=[12])),\n",
       " expval(PauliZ(wires=[13])),\n",
       " expval(PauliZ(wires=[14])),\n",
       " expval(PauliZ(wires=[15])),\n",
       " expval(PauliZ(wires=[16])),\n",
       " expval(PauliZ(wires=[17])),\n",
       " expval(PauliZ(wires=[18])),\n",
       " expval(PauliZ(wires=[19])),\n",
       " expval(PauliZ(wires=[20])),\n",
       " expval(PauliZ(wires=[21])),\n",
       " expval(PauliZ(wires=[22])),\n",
       " expval(PauliZ(wires=[23])),\n",
       " expval(PauliZ(wires=[24])),\n",
       " expval(PauliZ(wires=[25])),\n",
       " expval(PauliZ(wires=[26]))]"
      ]
     },
     "execution_count": 94,
     "metadata": {},
     "output_type": "execute_result"
    }
   ],
   "source": [
    "filter_circuit(pixel_values, random_layer_parameters)"
   ]
  },
  {
   "cell_type": "code",
   "execution_count": 95,
   "id": "f007a9a9-aed6-41e2-a3a0-1816edc68f53",
   "metadata": {},
   "outputs": [],
   "source": [
    "cost_tracker = Tracker().start()"
   ]
  },
  {
   "cell_type": "code",
   "execution_count": 96,
   "id": "c26cd98c-2347-451c-896a-eec4b7b1e395",
   "metadata": {},
   "outputs": [],
   "source": [
    "# diff_method = 'device'\n",
    "diff_method = 'parameter-shift'\n",
    "\n",
    "dev = qml.device(\n",
    "    name=\"braket.aws.qubit\",\n",
    "    device_arn=\"arn:aws:braket:::device/quantum-simulator/amazon/sv1\",\n",
    "    wires=qubits,\n",
    "    shots=1000,\n",
    ")"
   ]
  },
  {
   "cell_type": "code",
   "execution_count": 101,
   "id": "0a4c053d-669c-499d-9099-f06741815028",
   "metadata": {},
   "outputs": [
    {
     "data": {
      "text/plain": [
       "tensor([ 0.924,  0.056,  0.58 , -0.264,  0.908, -0.372, -0.072,  0.704,\n",
       "        -0.3  ,  0.896, -0.064,  0.316, -0.568, -0.828, -0.16 , -0.516,\n",
       "        -0.704, -0.336,  0.024,  0.292, -0.42 , -0.984, -0.248, -0.12 ,\n",
       "         0.284, -0.948, -0.824], requires_grad=True)"
      ]
     },
     "execution_count": 101,
     "metadata": {},
     "output_type": "execute_result"
    }
   ],
   "source": [
    "filter_q_node = qml.QNode(func=filter_circuit, device=dev, diff_method=diff_method)\n",
    "\n",
    "filter_q_node(pixel_values, random_layer_parameters)"
   ]
  },
  {
   "cell_type": "code",
   "execution_count": 102,
   "id": "de2959ce-ea2c-4002-905d-cc117a6b66b0",
   "metadata": {},
   "outputs": [
    {
     "data": {
      "text/plain": [
       "{'arn:aws:braket:::device/quantum-simulator/amazon/sv1': {'shots': 1000,\n",
       "  'tasks': {'COMPLETED': 2},\n",
       "  'execution_duration': datetime.timedelta(seconds=6, microseconds=979000),\n",
       "  'billed_execution_duration': datetime.timedelta(seconds=6, microseconds=979000)}}"
      ]
     },
     "execution_count": 102,
     "metadata": {},
     "output_type": "execute_result"
    }
   ],
   "source": [
    "cost_tracker.quantum_tasks_statistics()"
   ]
  },
  {
   "cell_type": "code",
   "execution_count": 98,
   "id": "f505c3b9-f280-4a07-a6b1-6fd12f970abe",
   "metadata": {},
   "outputs": [
    {
     "data": {
      "text/plain": [
       "{'arn:aws:braket:::device/quantum-simulator/amazon/sv1': {'shots': 500,\n",
       "  'tasks': {'COMPLETED': 1},\n",
       "  'execution_duration': datetime.timedelta(seconds=3, microseconds=548000),\n",
       "  'billed_execution_duration': datetime.timedelta(seconds=3, microseconds=548000)}}"
      ]
     },
     "execution_count": 98,
     "metadata": {},
     "output_type": "execute_result"
    }
   ],
   "source": [
    "cost_tracker.quantum_tasks_statistics()"
   ]
  },
  {
   "cell_type": "code",
   "execution_count": 56,
   "id": "465514ac-6e16-4817-818d-51517771f8df",
   "metadata": {},
   "outputs": [
    {
     "data": {
      "text/plain": [
       "Decimal('0.0037500000')"
      ]
     },
     "execution_count": 56,
     "metadata": {},
     "output_type": "execute_result"
    }
   ],
   "source": [
    "# cost_tracker.tracked_resources()\n",
    "# cost_tracker.qpu_tasks_cost()\n",
    "\n",
    "cost_tracker.simulator_tasks_cost()"
   ]
  },
  {
   "cell_type": "code",
   "execution_count": null,
   "id": "f2ff00d6-fd8d-48a0-86b5-5a8cbbe2532b",
   "metadata": {},
   "outputs": [],
   "source": []
  },
  {
   "cell_type": "code",
   "execution_count": 22,
   "id": "c1de5bf5-cf71-4b9b-88b4-ef6a02f48a09",
   "metadata": {},
   "outputs": [],
   "source": [
    "cost_tracker = Tracker().start()"
   ]
  },
  {
   "cell_type": "code",
   "execution_count": 23,
   "id": "4f6fa5f5-77fc-40c3-a35d-1e86c729912f",
   "metadata": {},
   "outputs": [],
   "source": [
    "# Batching\n",
    "\n",
    "diff_method = 'parameter-shift'\n",
    "\n",
    "dev_batched = qml.device(\n",
    "    name=\"braket.aws.qubit\",\n",
    "    device_arn=\"arn:aws:braket:::device/quantum-simulator/amazon/sv1\",\n",
    "    wires=qubits,\n",
    "    shots=1000,\n",
    "    parallel=True,\n",
    ")"
   ]
  },
  {
   "cell_type": "code",
   "execution_count": 24,
   "id": "ca4c7b40-2681-4876-a92a-e789d1261239",
   "metadata": {},
   "outputs": [
    {
     "data": {
      "text/plain": [
       "tensor([ 0.924, -0.134], requires_grad=True)"
      ]
     },
     "execution_count": 24,
     "metadata": {},
     "output_type": "execute_result"
    }
   ],
   "source": [
    "filter_q_node_batched = qml.qnode(dev_batched, diff_method=diff_method)(filter_circuit)\n",
    "\n",
    "filter_q_node_batched(pixel_values, random_layer_parameters)"
   ]
  },
  {
   "cell_type": "code",
   "execution_count": 25,
   "id": "cd3b1c8f-761e-4833-b700-e08057244084",
   "metadata": {
    "tags": []
   },
   "outputs": [
    {
     "data": {
      "text/plain": [
       "{'arn:aws:braket:::device/quantum-simulator/amazon/sv1': {'shots': 1000,\n",
       "  'tasks': {'COMPLETED': 1},\n",
       "  'execution_duration': datetime.timedelta(microseconds=66000),\n",
       "  'billed_execution_duration': datetime.timedelta(seconds=3)}}"
      ]
     },
     "execution_count": 25,
     "metadata": {},
     "output_type": "execute_result"
    }
   ],
   "source": [
    "cost_tracker.quantum_tasks_statistics()"
   ]
  },
  {
   "cell_type": "code",
   "execution_count": null,
   "id": "ede900ba-3c71-4627-ba04-3adf57c1d550",
   "metadata": {},
   "outputs": [],
   "source": []
  },
  {
   "cell_type": "markdown",
   "id": "0144268a-88ca-4a46-9391-df370a25612c",
   "metadata": {
    "tags": []
   },
   "source": [
    "### QNodeCollection"
   ]
  },
  {
   "cell_type": "code",
   "execution_count": 1,
   "id": "055a514f-5589-4b17-8517-a84e04a0a1bd",
   "metadata": {},
   "outputs": [],
   "source": [
    "import pennylane as qml\n",
    "from pennylane import numpy as np\n",
    "\n",
    "n_qubits = 20\n",
    "\n",
    "dev = qml.device('lightning.qubit', wires=n_qubits)"
   ]
  },
  {
   "cell_type": "code",
   "execution_count": 3,
   "id": "c576c921-f15d-4f54-b503-24e0bd87a451",
   "metadata": {},
   "outputs": [
    {
     "name": "stdout",
     "output_type": "stream",
     "text": [
      "CPU times: user 33 ms, sys: 10.5 ms, total: 43.5 ms\n",
      "Wall time: 40.8 ms\n"
     ]
    },
    {
     "data": {
      "text/plain": [
       "tensor(0., requires_grad=True)"
      ]
     },
     "execution_count": 3,
     "metadata": {},
     "output_type": "execute_result"
    }
   ],
   "source": [
    "@qml.qnode(dev)\n",
    "def circuit():\n",
    "    for i in range(n_qubits):\n",
    "        qml.Hadamard(wires=i)\n",
    "    return qml.expval(qml.PauliZ(0))\n",
    "\n",
    "# one circuit execution\n",
    "%time circuit() "
   ]
  },
  {
   "cell_type": "code",
   "execution_count": 10,
   "id": "d06ac027-1b24-4373-94df-e269e95bef24",
   "metadata": {},
   "outputs": [],
   "source": [
    "circuits_count = 50\n",
    "\n",
    "circuits = qml.QNodeCollection([circuit] * circuits_count)"
   ]
  },
  {
   "cell_type": "code",
   "execution_count": 11,
   "id": "6c7437e2-5df8-4919-ae02-d8c89d3f4756",
   "metadata": {},
   "outputs": [
    {
     "name": "stdout",
     "output_type": "stream",
     "text": [
      "CPU times: user 1.62 s, sys: 66.3 ms, total: 1.69 s\n",
      "Wall time: 1.5 s\n"
     ]
    },
    {
     "data": {
      "text/plain": [
       "array([0., 0., 0., 0., 0., 0., 0., 0., 0., 0., 0., 0., 0., 0., 0., 0., 0.,\n",
       "       0., 0., 0., 0., 0., 0., 0., 0., 0., 0., 0., 0., 0., 0., 0., 0., 0.,\n",
       "       0., 0., 0., 0., 0., 0., 0., 0., 0., 0., 0., 0., 0., 0., 0., 0.])"
      ]
     },
     "execution_count": 11,
     "metadata": {},
     "output_type": "execute_result"
    }
   ],
   "source": [
    "# two circuit executions\n",
    "%time circuits(parallel=True)"
   ]
  },
  {
   "cell_type": "code",
   "execution_count": null,
   "id": "afcbe8b8-2d84-4657-9794-ded5d974b641",
   "metadata": {},
   "outputs": [],
   "source": []
  },
  {
   "cell_type": "code",
   "execution_count": 33,
   "id": "fae7a594-ded4-4852-bb13-2d5ea9e2cb77",
   "metadata": {},
   "outputs": [],
   "source": [
    "from braket.tracking import Tracker\n",
    "\n",
    "cost_tracker = Tracker().start()\n",
    "\n",
    "qubits = list(range(n_qubits))\n",
    "\n",
    "sv1_batched = qml.device(\n",
    "    name=\"braket.aws.qubit\",\n",
    "    device_arn=\"arn:aws:braket:::device/quantum-simulator/amazon/sv1\",\n",
    "    wires=qubits,\n",
    "    shots=1000,\n",
    "    parallel=True,\n",
    ")"
   ]
  },
  {
   "cell_type": "code",
   "execution_count": 34,
   "id": "e4434c50-ee01-4c28-b494-2d33c8ff77bb",
   "metadata": {},
   "outputs": [],
   "source": [
    "@qml.qnode(sv1_batched)\n",
    "def sv1_batched_circuit():\n",
    "    for i in range(n_qubits):\n",
    "        qml.Hadamard(wires=i)\n",
    "    return qml.expval(qml.PauliZ(0))"
   ]
  },
  {
   "cell_type": "code",
   "execution_count": 24,
   "id": "eb43ee59-c308-4ed4-b2e2-1dc06cd5163d",
   "metadata": {},
   "outputs": [
    {
     "name": "stdout",
     "output_type": "stream",
     "text": [
      "CPU times: user 270 ms, sys: 0 ns, total: 270 ms\n",
      "Wall time: 8.09 s\n"
     ]
    },
    {
     "data": {
      "text/plain": [
       "tensor(-0.038, requires_grad=True)"
      ]
     },
     "execution_count": 24,
     "metadata": {},
     "output_type": "execute_result"
    }
   ],
   "source": [
    "# one circuit execution\n",
    "%time sv1_batched_circuit() "
   ]
  },
  {
   "cell_type": "code",
   "execution_count": 25,
   "id": "3f17eadc-a755-47de-b80e-c0a6899314e1",
   "metadata": {},
   "outputs": [
    {
     "data": {
      "text/plain": [
       "{'arn:aws:braket:::device/quantum-simulator/amazon/sv1': {'shots': 1000,\n",
       "  'tasks': {'COMPLETED': 1},\n",
       "  'execution_duration': datetime.timedelta(microseconds=25000),\n",
       "  'billed_execution_duration': datetime.timedelta(seconds=3)}}"
      ]
     },
     "execution_count": 25,
     "metadata": {},
     "output_type": "execute_result"
    }
   ],
   "source": [
    "cost_tracker.quantum_tasks_statistics()"
   ]
  },
  {
   "cell_type": "code",
   "execution_count": null,
   "id": "f2102167-56b7-437e-90f6-56484bbd36a2",
   "metadata": {},
   "outputs": [],
   "source": []
  },
  {
   "cell_type": "code",
   "execution_count": 35,
   "id": "fb1220bb-439a-461d-a873-3558bd43f11f",
   "metadata": {},
   "outputs": [],
   "source": [
    "circuits_count = 3\n",
    "\n",
    "sv1_batched_circuits = qml.QNodeCollection([sv1_batched_circuit] * circuits_count)"
   ]
  },
  {
   "cell_type": "code",
   "execution_count": 37,
   "id": "f1b786df-52b0-4d0e-88fd-6cdc0aa23070",
   "metadata": {},
   "outputs": [
    {
     "data": {
      "text/plain": [
       "array([ 0.006, -0.006,  0.022])"
      ]
     },
     "execution_count": 37,
     "metadata": {},
     "output_type": "execute_result"
    }
   ],
   "source": [
    "sv1_batched_circuits()"
   ]
  },
  {
   "cell_type": "code",
   "execution_count": 38,
   "id": "de277320-5de3-42b1-a82b-026bc01ac3a2",
   "metadata": {},
   "outputs": [
    {
     "data": {
      "text/plain": [
       "{'arn:aws:braket:::device/quantum-simulator/amazon/sv1': {'shots': 3000,\n",
       "  'tasks': {'COMPLETED': 3},\n",
       "  'execution_duration': datetime.timedelta(microseconds=177000),\n",
       "  'billed_execution_duration': datetime.timedelta(seconds=9)}}"
      ]
     },
     "execution_count": 38,
     "metadata": {},
     "output_type": "execute_result"
    }
   ],
   "source": [
    "cost_tracker.quantum_tasks_statistics()"
   ]
  }
 ],
 "metadata": {
  "kernelspec": {
   "display_name": "Python 3 (ipykernel)",
   "language": "python",
   "name": "python3"
  },
  "language_info": {
   "codemirror_mode": {
    "name": "ipython",
    "version": 3
   },
   "file_extension": ".py",
   "mimetype": "text/x-python",
   "name": "python",
   "nbconvert_exporter": "python",
   "pygments_lexer": "ipython3",
   "version": "3.8.10"
  }
 },
 "nbformat": 4,
 "nbformat_minor": 5
}
