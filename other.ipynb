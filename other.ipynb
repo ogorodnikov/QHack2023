{
 "cells": [
  {
   "cell_type": "markdown",
   "id": "0144268a-88ca-4a46-9391-df370a25612c",
   "metadata": {},
   "source": [
    "### QNodeCollection"
   ]
  },
  {
   "cell_type": "code",
   "execution_count": 1,
   "id": "055a514f-5589-4b17-8517-a84e04a0a1bd",
   "metadata": {},
   "outputs": [],
   "source": [
    "import pennylane as qml\n",
    "from pennylane import numpy as np\n",
    "\n",
    "n_qubits = 20\n",
    "\n",
    "dev = qml.device('lightning.qubit', wires=n_qubits)"
   ]
  },
  {
   "cell_type": "code",
   "execution_count": 3,
   "id": "c576c921-f15d-4f54-b503-24e0bd87a451",
   "metadata": {},
   "outputs": [
    {
     "name": "stdout",
     "output_type": "stream",
     "text": [
      "CPU times: user 33 ms, sys: 10.5 ms, total: 43.5 ms\n",
      "Wall time: 40.8 ms\n"
     ]
    },
    {
     "data": {
      "text/plain": [
       "tensor(0., requires_grad=True)"
      ]
     },
     "execution_count": 3,
     "metadata": {},
     "output_type": "execute_result"
    }
   ],
   "source": [
    "@qml.qnode(dev)\n",
    "def circuit():\n",
    "    for i in range(n_qubits):\n",
    "        qml.Hadamard(wires=i)\n",
    "    return qml.expval(qml.PauliZ(0))\n",
    "\n",
    "# one circuit execution\n",
    "%time circuit() "
   ]
  },
  {
   "cell_type": "code",
   "execution_count": 10,
   "id": "d06ac027-1b24-4373-94df-e269e95bef24",
   "metadata": {},
   "outputs": [],
   "source": [
    "circuits_count = 50\n",
    "\n",
    "circuits = qml.QNodeCollection([circuit] * circuits_count)"
   ]
  },
  {
   "cell_type": "code",
   "execution_count": 11,
   "id": "6c7437e2-5df8-4919-ae02-d8c89d3f4756",
   "metadata": {},
   "outputs": [
    {
     "name": "stdout",
     "output_type": "stream",
     "text": [
      "CPU times: user 1.62 s, sys: 66.3 ms, total: 1.69 s\n",
      "Wall time: 1.5 s\n"
     ]
    },
    {
     "data": {
      "text/plain": [
       "array([0., 0., 0., 0., 0., 0., 0., 0., 0., 0., 0., 0., 0., 0., 0., 0., 0.,\n",
       "       0., 0., 0., 0., 0., 0., 0., 0., 0., 0., 0., 0., 0., 0., 0., 0., 0.,\n",
       "       0., 0., 0., 0., 0., 0., 0., 0., 0., 0., 0., 0., 0., 0., 0., 0.])"
      ]
     },
     "execution_count": 11,
     "metadata": {},
     "output_type": "execute_result"
    }
   ],
   "source": [
    "# two circuit executions\n",
    "%time circuits(parallel=True)"
   ]
  },
  {
   "cell_type": "code",
   "execution_count": null,
   "id": "afcbe8b8-2d84-4657-9794-ded5d974b641",
   "metadata": {},
   "outputs": [],
   "source": []
  },
  {
   "cell_type": "code",
   "execution_count": 33,
   "id": "fae7a594-ded4-4852-bb13-2d5ea9e2cb77",
   "metadata": {},
   "outputs": [],
   "source": [
    "from braket.tracking import Tracker\n",
    "\n",
    "cost_tracker = Tracker().start()\n",
    "\n",
    "qubits = list(range(n_qubits))\n",
    "\n",
    "sv1_batched = qml.device(\n",
    "    name=\"braket.aws.qubit\",\n",
    "    device_arn=\"arn:aws:braket:::device/quantum-simulator/amazon/sv1\",\n",
    "    wires=qubits,\n",
    "    shots=1000,\n",
    "    parallel=True,\n",
    ")"
   ]
  },
  {
   "cell_type": "code",
   "execution_count": 34,
   "id": "e4434c50-ee01-4c28-b494-2d33c8ff77bb",
   "metadata": {},
   "outputs": [],
   "source": [
    "@qml.qnode(sv1_batched)\n",
    "def sv1_batched_circuit():\n",
    "    for i in range(n_qubits):\n",
    "        qml.Hadamard(wires=i)\n",
    "    return qml.expval(qml.PauliZ(0))"
   ]
  },
  {
   "cell_type": "code",
   "execution_count": 24,
   "id": "eb43ee59-c308-4ed4-b2e2-1dc06cd5163d",
   "metadata": {},
   "outputs": [
    {
     "name": "stdout",
     "output_type": "stream",
     "text": [
      "CPU times: user 270 ms, sys: 0 ns, total: 270 ms\n",
      "Wall time: 8.09 s\n"
     ]
    },
    {
     "data": {
      "text/plain": [
       "tensor(-0.038, requires_grad=True)"
      ]
     },
     "execution_count": 24,
     "metadata": {},
     "output_type": "execute_result"
    }
   ],
   "source": [
    "# one circuit execution\n",
    "%time sv1_batched_circuit() "
   ]
  },
  {
   "cell_type": "code",
   "execution_count": 25,
   "id": "3f17eadc-a755-47de-b80e-c0a6899314e1",
   "metadata": {},
   "outputs": [
    {
     "data": {
      "text/plain": [
       "{'arn:aws:braket:::device/quantum-simulator/amazon/sv1': {'shots': 1000,\n",
       "  'tasks': {'COMPLETED': 1},\n",
       "  'execution_duration': datetime.timedelta(microseconds=25000),\n",
       "  'billed_execution_duration': datetime.timedelta(seconds=3)}}"
      ]
     },
     "execution_count": 25,
     "metadata": {},
     "output_type": "execute_result"
    }
   ],
   "source": [
    "cost_tracker.quantum_tasks_statistics()"
   ]
  },
  {
   "cell_type": "code",
   "execution_count": null,
   "id": "f2102167-56b7-437e-90f6-56484bbd36a2",
   "metadata": {},
   "outputs": [],
   "source": []
  },
  {
   "cell_type": "code",
   "execution_count": 35,
   "id": "fb1220bb-439a-461d-a873-3558bd43f11f",
   "metadata": {},
   "outputs": [],
   "source": [
    "circuits_count = 3\n",
    "\n",
    "sv1_batched_circuits = qml.QNodeCollection([sv1_batched_circuit] * circuits_count)"
   ]
  },
  {
   "cell_type": "code",
   "execution_count": 37,
   "id": "f1b786df-52b0-4d0e-88fd-6cdc0aa23070",
   "metadata": {},
   "outputs": [
    {
     "data": {
      "text/plain": [
       "array([ 0.006, -0.006,  0.022])"
      ]
     },
     "execution_count": 37,
     "metadata": {},
     "output_type": "execute_result"
    }
   ],
   "source": [
    "sv1_batched_circuits()"
   ]
  },
  {
   "cell_type": "code",
   "execution_count": 38,
   "id": "de277320-5de3-42b1-a82b-026bc01ac3a2",
   "metadata": {},
   "outputs": [
    {
     "data": {
      "text/plain": [
       "{'arn:aws:braket:::device/quantum-simulator/amazon/sv1': {'shots': 3000,\n",
       "  'tasks': {'COMPLETED': 3},\n",
       "  'execution_duration': datetime.timedelta(microseconds=177000),\n",
       "  'billed_execution_duration': datetime.timedelta(seconds=9)}}"
      ]
     },
     "execution_count": 38,
     "metadata": {},
     "output_type": "execute_result"
    }
   ],
   "source": [
    "cost_tracker.quantum_tasks_statistics()"
   ]
  }
 ],
 "metadata": {
  "kernelspec": {
   "display_name": "Python 3 (ipykernel)",
   "language": "python",
   "name": "python3"
  },
  "language_info": {
   "codemirror_mode": {
    "name": "ipython",
    "version": 3
   },
   "file_extension": ".py",
   "mimetype": "text/x-python",
   "name": "python",
   "nbconvert_exporter": "python",
   "pygments_lexer": "ipython3",
   "version": "3.8.10"
  }
 },
 "nbformat": 4,
 "nbformat_minor": 5
}
